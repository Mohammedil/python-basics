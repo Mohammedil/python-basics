{
 "cells": [
  {
   "cell_type": "markdown",
   "metadata": {},
   "source": [
    "## ***1***"
   ]
  },
  {
   "cell_type": "code",
   "execution_count": 2,
   "metadata": {},
   "outputs": [
    {
     "name": "stdout",
     "output_type": "stream",
     "text": [
      "[[1, 2, 3], [4, 5, 6]]\n",
      "\n",
      "[[1 2 3]\n",
      " [4 5 6]]\n",
      "\n",
      "Matrix : [[1 2 3]\n",
      " [4 5 6]]\n",
      "Matrix Dimenson is : (2, 3)\n",
      "First row : [1 2 3]\n",
      "last row : [4 5 6]\n",
      "first row third column : 3\n",
      "third Column : [3 6]\n"
     ]
    }
   ],
   "source": [
    "import numpy as np \n",
    "\n",
    "mylist = [[1,2,3],[4,5,6]]\n",
    "myarray = np.array(mylist)\n",
    "print(mylist)\n",
    "print()\n",
    "print(myarray)\n",
    "print()\n",
    "\n",
    "print((\"Matrix : %s\") % str(myarray))\n",
    "print((\"Matrix Dimenson is : %s\") % str(myarray.shape))\n",
    "print((\"First row : %s\") % myarray[0])\n",
    "print((\"last row : %s\") % myarray[-1])\n",
    "print((\"first row third column : %s\") % myarray[0,2])\n",
    "print((\"third Column : %s\") % myarray[:,2] )"
   ]
  },
  {
   "cell_type": "markdown",
   "metadata": {},
   "source": [
    "## ***2***"
   ]
  },
  {
   "cell_type": "code",
   "execution_count": 5,
   "metadata": {},
   "outputs": [
    {
     "name": "stdout",
     "output_type": "stream",
     "text": [
      "aug: 186.1 hrs\n",
      "jul: 176.7 hrs\n",
      "jun: 171.4 hrs\n",
      "may: 170.9 hrs\n",
      "apr: 148.3 hrs\n",
      "sep: 133.9 hrs\n",
      "oct: 105.4 hrs\n",
      "mar: 101.7 hrs\n",
      "feb:  65.4 hrs\n",
      "nov:  59.6 hrs\n",
      "dec:  45.8 hrs\n",
      "jan:  44.7 hrs\n"
     ]
    }
   ],
   "source": [
    "months = ['jan', 'feb', 'mar', 'apr',\n",
    "          'may', 'jun', 'jul', 'aug',\n",
    "          'sep', 'oct', 'nov', 'dec']\n",
    "\n",
    "sun = [44.7,65.4,101.7,148.3,\n",
    "       170.9,171.4,176.7,186.1,\n",
    "       133.9,105.4,59.6,45.8]\n",
    "\n",
    "for s, m in sorted(zip(sun,months), reverse=True):\n",
    "    print('{}: {:5.1f} hrs'.format(m, s))"
   ]
  },
  {
   "cell_type": "markdown",
   "metadata": {},
   "source": [
    "## ***3***"
   ]
  },
  {
   "cell_type": "code",
   "execution_count": 9,
   "metadata": {},
   "outputs": [
    {
     "name": "stdout",
     "output_type": "stream",
     "text": [
      "['fizzbuzz', 1, 2, 'fizz', 4, 'buzz', 'fizz', 7, 8, 'fizz', 'buzz', 11, 'fizz', 13, 14, 'fizzbuzz', 16, 17, 'fizz', 19, 'buzz', 'fizz', 22, 23, 'fizz', 'buzz', 26, 'fizz', 28, 29, 'fizzbuzz', 31, 32, 'fizz', 34, 'buzz', 'fizz', 37, 38, 'fizz', 'buzz', 41, 'fizz', 43, 44, 'fizzbuzz', 46, 47, 'fizz', 49, 'buzz', 'fizz', 52, 53, 'fizz', 'buzz', 56, 'fizz', 58, 59, 'fizzbuzz', 61, 62, 'fizz', 64, 'buzz', 'fizz', 67, 68, 'fizz', 'buzz', 71, 'fizz', 73, 74, 'fizzbuzz', 76, 77, 'fizz', 79, 'buzz', 'fizz', 82, 83, 'fizz', 'buzz', 86, 'fizz', 88, 89, 'fizzbuzz', 91, 92, 'fizz', 94, 'buzz', 'fizz', 97, 98, 'fizz', 'buzz']\n"
     ]
    }
   ],
   "source": [
    "FB = []\n",
    "for t in range(101):\n",
    "    if t%5 == 0 and t%3 == 0:\n",
    "        FB.append('fizzbuzz')\n",
    "    elif t%3 == 0 and t%5 !=0:\n",
    "        FB.append('fizz')\n",
    "    elif t%5 == 0 and t%3 != 0 :\n",
    "        FB.append('buzz')\n",
    "    else :\n",
    "        FB.append(t)\n",
    "print(FB)"
   ]
  },
  {
   "cell_type": "markdown",
   "metadata": {},
   "source": [
    "## ***4***"
   ]
  },
  {
   "cell_type": "code",
   "execution_count": 19,
   "metadata": {},
   "outputs": [
    {
     "name": "stdout",
     "output_type": "stream",
     "text": [
      "pi =  3.1415926535714034\n",
      "\n",
      "error =  1.8389734179891093e-11\n"
     ]
    }
   ],
   "source": [
    "import math \n",
    "pi = 0\n",
    "for k in range(20):\n",
    "    pi += pow(-3, -k) / (2*k+1)\n",
    "\n",
    "pi *= math.sqrt(12)\n",
    "print('pi = ', pi)\n",
    "print()\n",
    "print('error = ',abs(pi - math.pi))"
   ]
  },
  {
   "cell_type": "code",
   "execution_count": 26,
   "metadata": {},
   "outputs": [
    {
     "name": "stdout",
     "output_type": "stream",
     "text": [
      "calculated pi =  3.1487444444444446\n",
      "Differene =  -0.007151790854651452\n"
     ]
    }
   ],
   "source": [
    "y = []\n",
    "x = []\n",
    "import random as rn\n",
    "\n",
    "def calcpi(n):\n",
    "    counter = 0\n",
    "    for k in range(1,n+2):\n",
    "        x.append(rn.random())\n",
    "        y.append(rn.random())\n",
    "\n",
    "    for gg in range(1,n+1):\n",
    "        for jj in range(1,n+1):\n",
    "            if ((x[gg])**2) + ((y[jj])**2) <= 1:\n",
    "                counter +=1\n",
    "            \n",
    "    pii = (float(counter)) / (n**2)\n",
    "    return pii\n",
    "\n",
    "calculatedpi = 4 * calcpi(3000)\n",
    "print('calculated pi = ', str(calculatedpi))\n",
    "print('Differene = ', str(np.pi- calculatedpi))"
   ]
  },
  {
   "cell_type": "markdown",
   "metadata": {},
   "source": [
    "## ***5***"
   ]
  },
  {
   "cell_type": "code",
   "execution_count": 1,
   "metadata": {},
   "outputs": [
    {
     "data": {
      "image/png": "[encoded data removed]",
      "text/plain": [
       "<Figure size 432x288 with 1 Axes>"
      ]
     },
     "metadata": {
      "needs_background": "light"
     },
     "output_type": "display_data"
    }
   ],
   "source": [
    "import math\n",
    "import pylab \n",
    "xmin, xmax = -2.*math.pi, 2.*math.pi\n",
    "n = 1000\n",
    "x = [0.] *n \n",
    "y = [0.] *n \n",
    "dx = (xmax - xmin) / (n-1)\n",
    "for i in range(n):\n",
    "    xpt = xmin + i * dx\n",
    "    x[i] = xpt\n",
    "    y[i] = math.sin(xpt)**2 \n",
    "\n",
    "pylab.plot(x,y)\n",
    "pylab.show()"
   ]
  },
  {
   "cell_type": "markdown",
   "metadata": {},
   "source": [
    "## ***6***"
   ]
  },
  {
   "cell_type": "code",
   "execution_count": 33,
   "metadata": {},
   "outputs": [
    {
     "name": "stdout",
     "output_type": "stream",
     "text": [
      "[[1, 20, 3, 4], [4, 5, 61, 8], [7, 8, 9, 60], [30, 3, 6, 3]]\n",
      "\n",
      "[[1, 4, 7, 30], [20, 5, 8, 3], [3, 61, 9, 6], [4, 8, 60, 3]]\n"
     ]
    }
   ],
   "source": [
    "def madeT(mm):\n",
    "    rr = len(mm)\n",
    "    cc = len(mm[0])\n",
    "    tm = [[0 for i in range (rr)] for j in range(cc)]\n",
    "    for ccc in range(cc):\n",
    "        for rrr in range(rr):\n",
    "            tm[ccc][rrr] = mm[rrr][ccc]\n",
    "    return tm\n",
    "m = [[1,20,3,4],\n",
    "     [4,5,61,8],\n",
    "     [7,8,9,60],\n",
    "     [30,3,6,3]]\n",
    "\n",
    "print(m)\n",
    "print()\n",
    "print(madeT(m))"
   ]
  },
  {
   "cell_type": "markdown",
   "metadata": {},
   "source": [
    "## ***7***"
   ]
  },
  {
   "cell_type": "code",
   "execution_count": 41,
   "metadata": {},
   "outputs": [
    {
     "name": "stderr",
     "output_type": "stream",
     "text": [
      "C:\\Users\\holol\\AppData\\Local\\Temp\\ipykernel_8568\\333947784.py:25: UserWarning: Matplotlib is currently using module://matplotlib_inline.backend_inline, which is a non-GUI backend, so cannot show the figure.\n",
      "  fig.show()\n"
     ]
    },
    {
     "data": {
      "image/png": "[encoded data removed]",
      "text/plain": [
       "<Figure size 432x288 with 4 Axes>"
      ]
     },
     "metadata": {
      "needs_background": "light"
     },
     "output_type": "display_data"
    }
   ],
   "source": [
    "import matplotlib.pyplot as plt \n",
    "import matplotlib.cm as cm \n",
    "\n",
    "L,n = 2,400\n",
    "x = np.linspace(-L,L,n)\n",
    "y = x.copy()\n",
    "X,Y = np.meshgrid(x,y)\n",
    "Z = np.exp(-(X**2 + Y**2))\n",
    "\n",
    "\n",
    "fig, ax = plt.subplots(nrows= 2, ncols=2,\n",
    "                                subplot_kw={'projection':'3d'})\n",
    "\n",
    "ax[0,0].plot_wireframe(X,Y,Z, rstride=40,cstride=40)\n",
    "ax[0,1].plot_surface(X,Y,Z, rstride=40,cstride=40, color='m')\n",
    "ax[1,0].plot_surface(X,Y,Z, rstride=12,cstride=12, color= 'm')\n",
    "ax[1,1].plot_surface(X,Y,Z, rstride=20,cstride=20, cmap=cm.hot)\n",
    "for axes in ax.flatten():\n",
    "    axes.set_xticks([-2,-1,0,1,2])\n",
    "    axes.set_yticks([-2,-1,0,1,2])\n",
    "    axes.set_zticks([0,0.5,1])\n",
    "\n",
    "\n",
    "fig.tight_layout()\n",
    "fig.show()"
   ]
  },
  {
   "cell_type": "markdown",
   "metadata": {},
   "source": [
    "## ***webbrowser , Glob***"
   ]
  },
  {
   "cell_type": "code",
   "execution_count": 1,
   "metadata": {},
   "outputs": [],
   "source": [
    "import webbrowser as w \n",
    "fb = w.open('www.fb.com')"
   ]
  },
  {
   "cell_type": "code",
   "execution_count": 52,
   "metadata": {},
   "outputs": [
    {
     "ename": "ParserError",
     "evalue": "Error tokenizing data. C error: Expected 1 fields in line 28, saw 509\n",
     "output_type": "error",
     "traceback": [
      "\u001b[1;31m---------------------------------------------------------------------------\u001b[0m",
      "\u001b[1;31mParserError\u001b[0m                               Traceback (most recent call last)",
      "\u001b[1;32mc:\\Users\\holol\\Desktop\\work speas\\Data_Scientsts\\python\\jupiter\\projects\\review\\py Examples 1.ipynb Cell 14\u001b[0m in \u001b[0;36m<cell line: 3>\u001b[1;34m()\u001b[0m\n\u001b[0;32m      <a href='vscode-notebook-cell:/c%3A/Users/holol/Desktop/work%20speas/Data_Scientsts/python/jupiter/projects/review/py%20Examples%201.ipynb#X26sZmlsZQ%3D%3D?line=0'>1</a>\u001b[0m \u001b[39mfrom\u001b[39;00m \u001b[39mpandas\u001b[39;00m \u001b[39mimport\u001b[39;00m read_csv\n\u001b[0;32m      <a href='vscode-notebook-cell:/c%3A/Users/holol/Desktop/work%20speas/Data_Scientsts/python/jupiter/projects/review/py%20Examples%201.ipynb#X26sZmlsZQ%3D%3D?line=1'>2</a>\u001b[0m url \u001b[39m=\u001b[39m \u001b[39m'\u001b[39m\u001b[39mhttps://github.com/cs109/2014_data/blob/master/countries.csv\u001b[39m\u001b[39m'\u001b[39m\n\u001b[1;32m----> <a href='vscode-notebook-cell:/c%3A/Users/holol/Desktop/work%20speas/Data_Scientsts/python/jupiter/projects/review/py%20Examples%201.ipynb#X26sZmlsZQ%3D%3D?line=2'>3</a>\u001b[0m data \u001b[39m=\u001b[39m read_csv(url)\n",
      "File \u001b[1;32mc:\\Users\\holol\\anaconda3\\lib\\site-packages\\pandas\\util\\_decorators.py:311\u001b[0m, in \u001b[0;36mdeprecate_nonkeyword_arguments.<locals>.decorate.<locals>.wrapper\u001b[1;34m(*args, **kwargs)\u001b[0m\n\u001b[0;32m    305\u001b[0m \u001b[39mif\u001b[39;00m \u001b[39mlen\u001b[39m(args) \u001b[39m>\u001b[39m num_allow_args:\n\u001b[0;32m    306\u001b[0m     warnings\u001b[39m.\u001b[39mwarn(\n\u001b[0;32m    307\u001b[0m         msg\u001b[39m.\u001b[39mformat(arguments\u001b[39m=\u001b[39marguments),\n\u001b[0;32m    308\u001b[0m         \u001b[39mFutureWarning\u001b[39;00m,\n\u001b[0;32m    309\u001b[0m         stacklevel\u001b[39m=\u001b[39mstacklevel,\n\u001b[0;32m    310\u001b[0m     )\n\u001b[1;32m--> 311\u001b[0m \u001b[39mreturn\u001b[39;00m func(\u001b[39m*\u001b[39margs, \u001b[39m*\u001b[39m\u001b[39m*\u001b[39mkwargs)\n",
      "File \u001b[1;32mc:\\Users\\holol\\anaconda3\\lib\\site-packages\\pandas\\io\\parsers\\readers.py:680\u001b[0m, in \u001b[0;36mread_csv\u001b[1;34m(filepath_or_buffer, sep, delimiter, header, names, index_col, usecols, squeeze, prefix, mangle_dupe_cols, dtype, engine, converters, true_values, false_values, skipinitialspace, skiprows, skipfooter, nrows, na_values, keep_default_na, na_filter, verbose, skip_blank_lines, parse_dates, infer_datetime_format, keep_date_col, date_parser, dayfirst, cache_dates, iterator, chunksize, compression, thousands, decimal, lineterminator, quotechar, quoting, doublequote, escapechar, comment, encoding, encoding_errors, dialect, error_bad_lines, warn_bad_lines, on_bad_lines, delim_whitespace, low_memory, memory_map, float_precision, storage_options)\u001b[0m\n\u001b[0;32m    665\u001b[0m kwds_defaults \u001b[39m=\u001b[39m _refine_defaults_read(\n\u001b[0;32m    666\u001b[0m     dialect,\n\u001b[0;32m    667\u001b[0m     delimiter,\n\u001b[1;32m   (...)\u001b[0m\n\u001b[0;32m    676\u001b[0m     defaults\u001b[39m=\u001b[39m{\u001b[39m\"\u001b[39m\u001b[39mdelimiter\u001b[39m\u001b[39m\"\u001b[39m: \u001b[39m\"\u001b[39m\u001b[39m,\u001b[39m\u001b[39m\"\u001b[39m},\n\u001b[0;32m    677\u001b[0m )\n\u001b[0;32m    678\u001b[0m kwds\u001b[39m.\u001b[39mupdate(kwds_defaults)\n\u001b[1;32m--> 680\u001b[0m \u001b[39mreturn\u001b[39;00m _read(filepath_or_buffer, kwds)\n",
      "File \u001b[1;32mc:\\Users\\holol\\anaconda3\\lib\\site-packages\\pandas\\io\\parsers\\readers.py:581\u001b[0m, in \u001b[0;36m_read\u001b[1;34m(filepath_or_buffer, kwds)\u001b[0m\n\u001b[0;32m    578\u001b[0m     \u001b[39mreturn\u001b[39;00m parser\n\u001b[0;32m    580\u001b[0m \u001b[39mwith\u001b[39;00m parser:\n\u001b[1;32m--> 581\u001b[0m     \u001b[39mreturn\u001b[39;00m parser\u001b[39m.\u001b[39;49mread(nrows)\n",
      "File \u001b[1;32mc:\\Users\\holol\\anaconda3\\lib\\site-packages\\pandas\\io\\parsers\\readers.py:1255\u001b[0m, in \u001b[0;36mTextFileReader.read\u001b[1;34m(self, nrows)\u001b[0m\n\u001b[0;32m   1253\u001b[0m nrows \u001b[39m=\u001b[39m validate_integer(\u001b[39m\"\u001b[39m\u001b[39mnrows\u001b[39m\u001b[39m\"\u001b[39m, nrows)\n\u001b[0;32m   1254\u001b[0m \u001b[39mtry\u001b[39;00m:\n\u001b[1;32m-> 1255\u001b[0m     index, columns, col_dict \u001b[39m=\u001b[39m \u001b[39mself\u001b[39;49m\u001b[39m.\u001b[39;49m_engine\u001b[39m.\u001b[39;49mread(nrows)\n\u001b[0;32m   1256\u001b[0m \u001b[39mexcept\u001b[39;00m \u001b[39mException\u001b[39;00m:\n\u001b[0;32m   1257\u001b[0m     \u001b[39mself\u001b[39m\u001b[39m.\u001b[39mclose()\n",
      "File \u001b[1;32mc:\\Users\\holol\\anaconda3\\lib\\site-packages\\pandas\\io\\parsers\\c_parser_wrapper.py:225\u001b[0m, in \u001b[0;36mCParserWrapper.read\u001b[1;34m(self, nrows)\u001b[0m\n\u001b[0;32m    223\u001b[0m \u001b[39mtry\u001b[39;00m:\n\u001b[0;32m    224\u001b[0m     \u001b[39mif\u001b[39;00m \u001b[39mself\u001b[39m\u001b[39m.\u001b[39mlow_memory:\n\u001b[1;32m--> 225\u001b[0m         chunks \u001b[39m=\u001b[39m \u001b[39mself\u001b[39;49m\u001b[39m.\u001b[39;49m_reader\u001b[39m.\u001b[39;49mread_low_memory(nrows)\n\u001b[0;32m    226\u001b[0m         \u001b[39m# destructive to chunks\u001b[39;00m\n\u001b[0;32m    227\u001b[0m         data \u001b[39m=\u001b[39m _concatenate_chunks(chunks)\n",
      "File \u001b[1;32mc:\\Users\\holol\\anaconda3\\lib\\site-packages\\pandas\\_libs\\parsers.pyx:805\u001b[0m, in \u001b[0;36mpandas._libs.parsers.TextReader.read_low_memory\u001b[1;34m()\u001b[0m\n",
      "File \u001b[1;32mc:\\Users\\holol\\anaconda3\\lib\\site-packages\\pandas\\_libs\\parsers.pyx:861\u001b[0m, in \u001b[0;36mpandas._libs.parsers.TextReader._read_rows\u001b[1;34m()\u001b[0m\n",
      "File \u001b[1;32mc:\\Users\\holol\\anaconda3\\lib\\site-packages\\pandas\\_libs\\parsers.pyx:847\u001b[0m, in \u001b[0;36mpandas._libs.parsers.TextReader._tokenize_rows\u001b[1;34m()\u001b[0m\n",
      "File \u001b[1;32mc:\\Users\\holol\\anaconda3\\lib\\site-packages\\pandas\\_libs\\parsers.pyx:1960\u001b[0m, in \u001b[0;36mpandas._libs.parsers.raise_parser_error\u001b[1;34m()\u001b[0m\n",
      "\u001b[1;31mParserError\u001b[0m: Error tokenizing data. C error: Expected 1 fields in line 28, saw 509\n"
     ]
    }
   ],
   "source": [
    "from pandas import read_csv\n",
    "url = 'https://github.com/cs109/2014_data/blob/master/countries.csv'\n",
    "data = read_csv(url, names=[2])\n",
    "# print(data.shape)"
   ]
  },
  {
   "cell_type": "code",
   "execution_count": 66,
   "metadata": {},
   "outputs": [
    {
     "name": "stdout",
     "output_type": "stream",
     "text": [
      "[]\n"
     ]
    }
   ],
   "source": [
    "import glob as gb \n",
    "a = gb.glob(pathname= 'C:\\\\Users\\\\holol\\\\Desktop\\\\work speas*.*')\n",
    "print(a)"
   ]
  },
  {
   "cell_type": "markdown",
   "metadata": {},
   "source": [
    "## ***try_except***"
   ]
  },
  {
   "cell_type": "code",
   "execution_count": 3,
   "metadata": {},
   "outputs": [
    {
     "name": "stdout",
     "output_type": "stream",
     "text": [
      "wrong format\n",
      "end\n"
     ]
    }
   ],
   "source": [
    "while True:\n",
    "    try:\n",
    "        n = input('Number?')\n",
    "        n = int(n)\n",
    "        print(n*5)\n",
    "        break\n",
    "    except:\n",
    "        print('wrong format')\n",
    "        break\n",
    "    finally:\n",
    "        print('end')"
   ]
  },
  {
   "cell_type": "code",
   "execution_count": 9,
   "metadata": {},
   "outputs": [
    {
     "name": "stdout",
     "output_type": "stream",
     "text": [
      "error message is: division by zero\n"
     ]
    }
   ],
   "source": [
    "z = input('number ?')\n",
    "try:\n",
    "    x = 1 / int(z)\n",
    "    print(x)\n",
    "except ZeroDivisionError as err:\n",
    "    print('error message is:', err)"
   ]
  },
  {
   "cell_type": "markdown",
   "metadata": {},
   "source": [
    "## ***Datetime***"
   ]
  },
  {
   "cell_type": "code",
   "execution_count": 15,
   "metadata": {},
   "outputs": [
    {
     "name": "stdout",
     "output_type": "stream",
     "text": [
      "2022-08-29\n",
      "\n",
      "08-29-22. 29 Aug 2022 is a Monday on the 29 day of August.\n"
     ]
    }
   ],
   "source": [
    "from datetime import date\n",
    "now = date.today()\n",
    "print(now)\n",
    "print()\n",
    "\n",
    "from time import strftime\n",
    "a = strftime('%m-%d-%y. %d %b %Y is a %A on the %d day of %B.')\n",
    "print(a)"
   ]
  },
  {
   "cell_type": "code",
   "execution_count": 17,
   "metadata": {},
   "outputs": [
    {
     "name": "stdout",
     "output_type": "stream",
     "text": [
      "9530 days, 0:00:00\n"
     ]
    }
   ],
   "source": [
    "a = date(1996,7,26)\n",
    "z = now - a\n",
    "print(z)"
   ]
  },
  {
   "cell_type": "code",
   "execution_count": 19,
   "metadata": {},
   "outputs": [
    {
     "name": "stdout",
     "output_type": "stream",
     "text": [
      "10621 days, 0:00:00\n"
     ]
    }
   ],
   "source": [
    "c = date(1982,2,2)\n",
    "d = date(2011,3,3)\n",
    "print(d-c)"
   ]
  },
  {
   "cell_type": "code",
   "execution_count": 22,
   "metadata": {},
   "outputs": [
    {
     "name": "stdout",
     "output_type": "stream",
     "text": [
      "2011-03-15 13:43:12\n",
      "1982-02-02 18:32:12\n",
      "10632 days, 19:11:00\n"
     ]
    }
   ],
   "source": [
    "from datetime import datetime\n",
    "a = datetime(year=2011,month=3,day=15,hour=13,minute=43,second=12)\n",
    "b = datetime(year=1982,month=2,day=2,hour=18,minute=32,second=12)\n",
    "print(a)\n",
    "print(b)\n",
    "print(a-b)"
   ]
  },
  {
   "cell_type": "code",
   "execution_count": 2,
   "metadata": {},
   "outputs": [
    {
     "name": "stdout",
     "output_type": "stream",
     "text": [
      "start\n",
      "finish\n"
     ]
    }
   ],
   "source": [
    "import time \n",
    "def wait(x):\n",
    "    to = time.time()\n",
    "    while time.time() - to < x:\n",
    "        time.sleep(1)\n",
    "    return x \n",
    "\n",
    "print('start')\n",
    "wait(5)\n",
    "print('finish')"
   ]
  },
  {
   "cell_type": "markdown",
   "metadata": {},
   "source": [
    "## ***strings***"
   ]
  },
  {
   "cell_type": "markdown",
   "metadata": {},
   "source": [
    "***1***"
   ]
  },
  {
   "cell_type": "code",
   "execution_count": 42,
   "metadata": {},
   "outputs": [
    {
     "name": "stdout",
     "output_type": "stream",
     "text": [
      "uoy era woh uoy er\n",
      "9876\n",
      "uoy era woh uoy era woh\n",
      "987654321\n",
      "['h', 'o', 'w', ' ', 'a', 'r', 'e', ' ', 'y', 'o', 'u', ' ', 'h', 'o', 'w', ' ', 'a', 'r', 'e', ' ', 'y', 'o', 'u']\n",
      "['1', '2', '3', '4', '5', '6', '7', '8', '9']\n",
      "[' ', ' ', ' ', ' ', ' ', 'a', 'a', 'e', 'e', 'h', 'h', 'o', 'o', 'o', 'o', 'r', 'r', 'u', 'u', 'w', 'w', 'y', 'y']\n",
      "{' ', 'u', 'w', 'o', 'a', 'h', 'r', 'y', 'e'}\n",
      "['how', 'are', 'you', 'how', 'are', 'you']\n",
      "['123456789']\n",
      "['do', 'you', 'love', 'me']\n",
      "['how ar', ' you how ar', ' you']\n",
      "['12', '456789']\n",
      "['how are you how are you']\n"
     ]
    }
   ],
   "source": [
    "a = 'how are you how are you'\n",
    "b = '123456789'\n",
    "c = 'do,you,love,me'\n",
    "  # all the letters from the end to start --> 4\n",
    "print(a[-1:4:-1])\n",
    "print(b[-1:4:-1])\n",
    "  # all the lerrers from the to start\n",
    "print(a[::-1])\n",
    "print(b[::-1])\n",
    "  # as list\n",
    "print(list(a))\n",
    "print(list(b))\n",
    "  # sorting\n",
    "print(sorted(list(a)))\n",
    "  # evry letter juat one time\n",
    "print(set(a))\n",
    "  # split\n",
    "print(a.split())\n",
    "print(b.split())\n",
    "# coma or a latter\n",
    "print(c.split(','))\n",
    "print(a.split('e'))\n",
    "print(b.split('3'))\n",
    "print(a.splitlines())"
   ]
  },
  {
   "cell_type": "markdown",
   "metadata": {},
   "source": [
    "***2***"
   ]
  },
  {
   "cell_type": "code",
   "execution_count": 43,
   "metadata": {},
   "outputs": [
    {
     "name": "stdout",
     "output_type": "stream",
     "text": [
      "('how ar', 'e', ' you how are you')\n",
      "('how are you how ar', 'e', ' you')\n",
      "4\n",
      "16\n",
      "8\n",
      "how qre you how qre you\n",
      "2\n",
      "2\n",
      "How are you how are you\n",
      "How Are You How Are You\n",
      "HOW ARE YOU HOW ARE YOU\n",
      "HOW ARE YOU HOW ARE YOU\n",
      "   how are you how are you    \n"
     ]
    }
   ],
   "source": [
    "  # partition\n",
    "print(a.partition('e'))\n",
    "print(a.rpartition('e')) #from lift to right\n",
    "  # find\n",
    "print(a.find('are'))\n",
    "print(a.rfind('are'))\n",
    "print(a.index('you'))\n",
    "  # replace & count\n",
    "print(a.replace('a','q'))\n",
    "print(a.count('e'))\n",
    "print(a.count('are'))\n",
    "  # capitalize & title & upper & swapcase & center\n",
    "print(a.capitalize())\n",
    "print(a.title())\n",
    "print(a.upper())\n",
    "print(a.swapcase())\n",
    "print(a.center(30))"
   ]
  },
  {
   "cell_type": "markdown",
   "metadata": {},
   "source": [
    "***3***"
   ]
  },
  {
   "cell_type": "code",
   "execution_count": 50,
   "metadata": {},
   "outputs": [
    {
     "name": "stdout",
     "output_type": "stream",
     "text": [
      "how are you how are you       \n",
      "       how are you how are you\n",
      "*******how are you how are you\n",
      "how are you how are you*******\n",
      "how are you how are you$$$$$$$$$$$$$$$$$$$$$$$$$$$\n",
      "\n",
      "0000000000000000000000000000000123456789\n",
      "\n",
      "False\n",
      "how are you how are you\n",
      "how are you how are you\n",
      "how are you how are you\n",
      "ow are you how are you\n"
     ]
    }
   ],
   "source": [
    "  # ljust & rjust \n",
    "print(a.ljust(30))\n",
    "print(a.rjust(30))\n",
    "print(a.rjust(30,'*'))\n",
    "print(a.ljust(30,'*'))\n",
    "print(a.ljust(50,'$'))\n",
    "print()\n",
    "  # zfill\n",
    "  \n",
    "print(b.zfill(40))\n",
    "print()\n",
    "  # isalpha\n",
    "print(a.isalpha())\n",
    "  # strip        remove the space from the left and the right\n",
    "print(a.strip())\n",
    "print(a.rstrip())\n",
    "print(a.lstrip())\n",
    "print(a.strip('h'))"
   ]
  },
  {
   "cell_type": "markdown",
   "metadata": {},
   "source": [
    "***4***"
   ]
  },
  {
   "cell_type": "code",
   "execution_count": 65,
   "metadata": {},
   "outputs": [
    {
     "name": "stdout",
     "output_type": "stream",
     "text": [
      "sweet home alabama\n",
      "\n",
      "deer sir \n",
      "i would like to tell you something\n",
      "deer sir \\ni would like to tell you something\n",
      "my\tname\tis\tmohammed\n",
      "my name is\n",
      "\tmohammed\n",
      " hello evrybody \n",
      "i'm mohammed yaya khalil\n",
      "\n",
      "sweet home alabama\n",
      "['deer sir \\\\ni would like to tell you something']\n",
      "\n",
      "aaaaa bbbbbb\n",
      "aaaaabbbbbb\n"
     ]
    }
   ],
   "source": [
    "  # \\n\n",
    "a = 'sweet home alabama'\n",
    "print(a)\n",
    "print()\n",
    "b = 'deer sir \\ni would like to tell you something'\n",
    "print(b)\n",
    "b = r'deer sir \\ni would like to tell you something'\n",
    "print(b)\n",
    "  # \\t   tab\n",
    "print('my\\tname\\tis\\tmohammed')\n",
    "print('my name is\\n\\tmohammed')\n",
    "print(''' hello evrybody \n",
    "i\\'m mohammed yaya khalil''')\n",
    "print()\n",
    "  # splitline\n",
    "print(a)\n",
    "print(b.splitlines())\n",
    "print()\n",
    "a,b = 'aaaaa','bbbbbb'\n",
    "print(a,b)\n",
    "print(a,end='')\n",
    "print(b)"
   ]
  },
  {
   "cell_type": "code",
   "execution_count": 75,
   "metadata": {},
   "outputs": [
    {
     "name": "stdout",
     "output_type": "stream",
     "text": [
      "my name is ali\n",
      "my name is %s\n",
      "my name is do,you,love,me\n",
      "my name is ali and i'm from chad\n",
      "my name is ali and i'm is 26 years old\n",
      "my name is ali and i'm is 26.500000 years old\n"
     ]
    }
   ],
   "source": [
    "  # %s or %d or %f\n",
    "a = 'my name is ali'\n",
    "print(a)\n",
    "a = 'my name is %s'\n",
    "print(a)\n",
    "print(a%c)\n",
    "a = 'my name is %s and i\\'m from %s'%('ali','chad')\n",
    "print(a)\n",
    "a = 'my name is %s and i\\'m is %d years old'%('ali',26)\n",
    "print(a)\n",
    "a = 'my name is %s and i\\'m is %f years old'\n",
    "print(a%('ali',26.5))"
   ]
  },
  {
   "cell_type": "code",
   "execution_count": 85,
   "metadata": {},
   "outputs": [
    {
     "name": "stdout",
     "output_type": "stream",
     "text": [
      "True\n",
      "False\n",
      "True\n",
      "False\n",
      "True\n",
      "False\n",
      "True\n",
      "True\n"
     ]
    }
   ],
   "source": [
    "  # is \n",
    "a = '43345434'\n",
    "print(a.isdigit())\n",
    "print('dkfdsk'.isdigit())\n",
    "print('DFGDFGD'.isupper())\n",
    "print('DGDGDF'.islower())\n",
    "print('Fkjds'.istitle())\n",
    "print('dksds'.istitle())\n",
    "a = 'sweet home alabama'\n",
    "print(a.startswith('sweet'))\n",
    "a = 'mohammedykhalil@gmail.com'\n",
    "print(a.endswith('.com'))"
   ]
  },
  {
   "cell_type": "code",
   "execution_count": 92,
   "metadata": {},
   "outputs": [
    {
     "name": "stdout",
     "output_type": "stream",
     "text": [
      "ali is friend of mohammed is friend of mossa\n",
      "ali\n",
      "ahmad\n",
      "mossa\n",
      "6 * 3 * 6 * 6 * 1 * 4 * 9 * 3 * 8 * 0 * 9 * 7 * 5 * 7 * 0 * 3 * 1 * 7 * 1 * 0 * 9 * 7 * 9 * 6 * 1 * 9 * 2 * 7 * 1 * 2 * 5 * 3 * 9 * 7 * 2 * 4 * 5 * 5 * 2 * 1 * 8 * 2 * 0 * 0 * 8 * 6 * 8 * 5 * 8 * 8 * 5 * 4 * 7 * 0 * 4 * 5 * 4 * 2 * 5 * 1 * 4 * 6 * 0 * 2 * 2 * 7 * 8 * 2 * 6 * 6 * 2 * 7 * 5 * 0 * 7 * 1 * 9 * 9 * 6 * 1 * 1 * 9 * 0 * 1 * 9 * 2 * 2 * 8 * 3 * 2 * 1 * 4 * 4 * 0 * 2 * 3 * 3 * 3 * 5 * 0\n"
     ]
    }
   ],
   "source": [
    "  # join\n",
    "a = ' is friend of '.join(( 'ali', 'mohammed', 'mossa'))\n",
    "print(a)\n",
    "a = '\\n'.join(('ali', 'ahmad','mossa'))\n",
    "print(a)\n",
    "import numpy as np\n",
    "print(' * '.join([str(i) for i in np.random.randint(10,size=100)]))"
   ]
  },
  {
   "cell_type": "markdown",
   "metadata": {},
   "source": [
    "***5***"
   ]
  },
  {
   "cell_type": "code",
   "execution_count": 103,
   "metadata": {},
   "outputs": [
    {
     "name": "stdout",
     "output_type": "stream",
     "text": [
      "the value of pi is 3.141592653589793\n",
      "the value of pi is 3.141592653589793\n",
      "\n",
      "red and blue\n",
      "blue and red\n",
      "\n",
      "1st letter : A. 2nd letter : B.\n",
      "\n",
      "pi = 3.142\n"
     ]
    }
   ],
   "source": [
    "  # format\n",
    "a = 'the value of pi is {}'.format(np.pi)\n",
    "print(a)\n",
    "print('the value of pi is',np.pi)\n",
    "print()\n",
    "print('{0} and {1}'.format('red','blue'))\n",
    "print('{1} and {0}'.format('red','blue'))\n",
    "print()\n",
    "print('1st letter : {first}. 2nd letter : {last}.'.format(last='B', first='A'))\n",
    "print()\n",
    "print('pi = {0:.3f}'.format(np.pi))"
   ]
  },
  {
   "cell_type": "code",
   "execution_count": 112,
   "metadata": {},
   "outputs": [
    {
     "name": "stdout",
     "output_type": "stream",
     "text": [
      "i am 20 years old\n",
      "\n",
      "|          hello          |\n",
      "\n",
      "name       ==>      56322\n"
     ]
    }
   ],
   "source": [
    "print('{:s} {:d} years old'.format('i am', 20))\n",
    "print()\n",
    "print('|'+'{:^25}'.format('hello')+'|')\n",
    "print()\n",
    "print('{0:10} ==> {1:10d}'.format('name',56322))"
   ]
  },
  {
   "cell_type": "code",
   "execution_count": 121,
   "metadata": {},
   "outputs": [
    {
     "name": "stdout",
     "output_type": "stream",
     "text": [
      "['guido@python.org', 'guido@google.com']\n",
      "\n",
      "[('guido', 'python', 'org'), ('guido', 'google', 'com')]\n"
     ]
    }
   ],
   "source": [
    "import re \n",
    "text = 'To email Guido, try guido@python.org or guido@google.com'\n",
    "\n",
    "emile = re.compile('\\w+@\\w+\\.[a-z]{3}')\n",
    "print(emile.findall(text))\n",
    "print()\n",
    "\n",
    "emile3 = re.compile(r'([\\w.]+)@(\\w+)\\.([a-z]{3})')\n",
    "print(emile3.findall(text))"
   ]
  },
  {
   "cell_type": "markdown",
   "metadata": {},
   "source": [
    "## ***loops***"
   ]
  },
  {
   "cell_type": "code",
   "execution_count": 136,
   "metadata": {},
   "outputs": [
    {
     "name": "stdout",
     "output_type": "stream",
     "text": [
      "1\n",
      "2\n",
      "3\n",
      "4\n",
      "5\n",
      "6\n",
      "\n",
      "not =\n",
      "not =\n",
      "3\n",
      "4\n",
      "5\n",
      "6\n"
     ]
    }
   ],
   "source": [
    "a = [1,2,3,4,5,6]\n",
    "for i in a:\n",
    "    print(i)\n",
    "print()\n",
    "a = [1,2,3,4,5,6]\n",
    "for i in a:\n",
    "    if i > 2:\n",
    "        print(i)\n",
    "    else:\n",
    "        print('not =')"
   ]
  },
  {
   "cell_type": "code",
   "execution_count": 151,
   "metadata": {},
   "outputs": [
    {
     "name": "stdout",
     "output_type": "stream",
     "text": [
      "8\n",
      "9\n"
     ]
    }
   ],
   "source": [
    "def f(x,r):\n",
    "    d = x + r\n",
    "    return (d)\n",
    "\n",
    "print(f(5,3))\n",
    "\n",
    "def one_peace(x):\n",
    "    d = x * 50\n",
    "    d = d / 22\n",
    "\n",
    "    return(int(d))\n",
    "print(one_peace(4))"
   ]
  },
  {
   "cell_type": "markdown",
   "metadata": {},
   "source": [
    "***if***"
   ]
  },
  {
   "cell_type": "code",
   "execution_count": 162,
   "metadata": {},
   "outputs": [
    {
     "name": "stdout",
     "output_type": "stream",
     "text": [
      "help\n",
      "\n",
      "5 less then 9\n",
      "\n",
      "99\n"
     ]
    }
   ],
   "source": [
    "if True:\n",
    "    print('help')\n",
    "else:\n",
    "    print('no for help')\n",
    "print()\n",
    "\n",
    "if 5 > 9:\n",
    "    print('5 is upper then 9')\n",
    "else:\n",
    "    print('5 less then 9')\n",
    "print()\n",
    "\n",
    "if (5<8) and (3<5):\n",
    "    print(99)"
   ]
  },
  {
   "cell_type": "markdown",
   "metadata": {},
   "source": [
    "***for***"
   ]
  },
  {
   "cell_type": "code",
   "execution_count": 182,
   "metadata": {},
   "outputs": [
    {
     "name": "stdout",
     "output_type": "stream",
     "text": [
      "0\n",
      "1\n",
      "2\n",
      "\n",
      "2\n",
      "5\n",
      "8\n",
      "11\n",
      "14\n",
      "17\n",
      "\n",
      "[(0, 0), (0, 1), (0, 2), (0, 3), (0, 4), (1, 0), (1, 1), (1, 2), (1, 3), (1, 4), (2, 0), (2, 1), (2, 2), (2, 3), (2, 4)]\n",
      "\n",
      "[(0, 1), (0, 2), (0, 3), (0, 4), (1, 2), (1, 3), (1, 4), (2, 3), (2, 4)]\n",
      "\n",
      "l\n",
      "d\n",
      "k\n",
      "f\n",
      "j\n",
      "k\n",
      "d\n",
      "f\n",
      "l\n",
      "k\n",
      "s\n",
      "j\n",
      "i\n",
      "e\n",
      "j\n",
      "f\n",
      "i\n",
      "e\n",
      "k\n",
      "s\n",
      "d\n",
      "gniod uoy era woh nohtyp olleh\n"
     ]
    }
   ],
   "source": [
    "for i in range(20):\n",
    "    if i < 3:\n",
    "        print(i)\n",
    "print()\n",
    "\n",
    "for i in range(2,20,3):\n",
    "    print(i)\n",
    "print()\n",
    "\n",
    "f = [(x,y) for x in range(3) for y in range(5)]\n",
    "print(f)\n",
    "print()\n",
    "\n",
    "f = [(x,y) for x in range(3) for y in range(5) if x < y ]\n",
    "print(f)\n",
    "print()\n",
    "\n",
    "y = 'ldkfjkdflksjiejfieksd'\n",
    "for i in range(len(y)):\n",
    "    print(y[i])\n",
    "\n",
    "z = ''\n",
    "y = 'hello python how are you doing'\n",
    "for i in range(len(y)):\n",
    "    z = z + y[len(y) -i-1]\n",
    "print(z)"
   ]
  },
  {
   "cell_type": "code",
   "execution_count": 208,
   "metadata": {},
   "outputs": [
    {
     "name": "stdout",
     "output_type": "stream",
     "text": [
      "0 ahmad\n",
      "1 mona\n",
      "2 ramy\n",
      "3 ali\n",
      "\n",
      "name lancelot\n",
      "quest the holy frail\n",
      "favorite color blue\n",
      "\n",
      "[0, 5, 10, 15, 20, 25, 30, 35, 40, 45]\n",
      "\n",
      "[0, 1, 2, 3, 4, 5, 6, 7, 8, 9, 10, 11, 12, 13, 14, 15, 16, 17, 18, 19]\n",
      "\n",
      "more\n",
      "more\n",
      "more\n",
      "more\n",
      "less\n",
      "\n",
      "2.9289682539682538\n",
      "\n",
      "[0, 100, 400, 900, 1600, 2500, 3600, 4900, 6400, 8100, 10000, 12100, 14400, 16900, 19600, 22500, 25600, 28900, 32400, 36100]\n"
     ]
    }
   ],
   "source": [
    "for i,v in enumerate(['ahmad','mona','ramy','ali']):\n",
    "    print(i,v)\n",
    "print()\n",
    "\n",
    "questions = ['name','quest','favorite color']\n",
    "answers = ['lancelot','the holy frail','blue']\n",
    "for q,a in zip(questions,answers):\n",
    "    print(q+' '+a)\n",
    "print()\n",
    "\n",
    "a = [i for i in range(50) if i % 5 == 0]\n",
    "print(a)\n",
    "print()\n",
    "\n",
    "print([i for i in range(20)])\n",
    "print()\n",
    "\n",
    "for x in range(4):\n",
    "    print('more')\n",
    "else:\n",
    "    print('less')\n",
    "print()\n",
    "\n",
    "print(sum(1.0/k for k in range(1,11)))\n",
    "print()\n",
    "\n",
    "print([r**2 for r in [10*i for i in range(20)]])"
   ]
  },
  {
   "cell_type": "markdown",
   "metadata": {},
   "source": [
    "***while***"
   ]
  },
  {
   "cell_type": "code",
   "execution_count": 3,
   "metadata": {},
   "outputs": [
    {
     "name": "stdout",
     "output_type": "stream",
     "text": [
      "5\n",
      "7\n",
      "9\n",
      "Done\n"
     ]
    }
   ],
   "source": [
    "n = int(input('input number: '))\n",
    "while n <=10:\n",
    "    print(n)\n",
    "    n = n+2\n",
    "print('Done')"
   ]
  },
  {
   "cell_type": "code",
   "execution_count": 7,
   "metadata": {},
   "outputs": [
    {
     "name": "stdout",
     "output_type": "stream",
     "text": [
      "yes\n",
      "end\n"
     ]
    }
   ],
   "source": [
    "while True:\n",
    "    a = int(input('Number: '))\n",
    "    if a > 15 :\n",
    "        print('yes')\n",
    "        break\n",
    "    else:\n",
    "        print('no')\n",
    "print('end')"
   ]
  },
  {
   "cell_type": "code",
   "execution_count": 11,
   "metadata": {},
   "outputs": [
    {
     "name": "stdout",
     "output_type": "stream",
     "text": [
      "4\n",
      "3\n",
      "2\n",
      "1\n",
      "Done\n"
     ]
    }
   ],
   "source": [
    "a = 4\n",
    "while a :\n",
    "    print(a)\n",
    "    a = a-1\n",
    "else:\n",
    "    print('Done')"
   ]
  },
  {
   "cell_type": "markdown",
   "metadata": {},
   "source": [
    "## ***Statistics***"
   ]
  },
  {
   "cell_type": "code",
   "execution_count": 26,
   "metadata": {},
   "outputs": [
    {
     "name": "stdout",
     "output_type": "stream",
     "text": [
      "4.5\n",
      "88.4\n",
      "-------\n",
      "2.943495400788436\n",
      "6.0009569558592295\n",
      "-------\n",
      "45.5\n",
      "45\n",
      "46\n",
      "------\n",
      "67\n",
      "-------\n",
      "161.46840076140114\n",
      "-------\n",
      "26072.044444444447\n"
     ]
    }
   ],
   "source": [
    "import statistics as st\n",
    "\n",
    "a = [1,2,3,4,5,6,7,8]\n",
    "b = [34,543,45,46,67,23,67,56,1,2]\n",
    "print(st.mean(a))\n",
    "print(st.mean(b))\n",
    "print('-------')\n",
    "\n",
    "print(st.harmonic_mean(a))\n",
    "print(st.harmonic_mean(b))\n",
    "print('-------')\n",
    "\n",
    "print(st.median(b))\n",
    "print(st.median_low(b))\n",
    "print(st.median_high(b))\n",
    "print('------')\n",
    "\n",
    "print(st.mode(b))\n",
    "print('-------')\n",
    "\n",
    "print(st.stdev(b))\n",
    "print('-------')\n",
    "\n",
    "print(st.variance(b))"
   ]
  },
  {
   "cell_type": "markdown",
   "metadata": {},
   "source": [
    "## ***Random***"
   ]
  },
  {
   "cell_type": "code",
   "execution_count": 42,
   "metadata": {},
   "outputs": [
    {
     "name": "stdout",
     "output_type": "stream",
     "text": [
      "rnadom  0.4331666326984984\n",
      "-------------\n",
      "rnadint  18\n",
      "-------------\n",
      "uniform  3.10093198985514\n",
      "-------------\n",
      "randrange  45\n",
      "-------------\n",
      "randrange  4\n",
      "-------------\n",
      "choice  c\n",
      "-------------\n",
      "choice  a\n",
      "-------------\n",
      "sample  [112, 43, 98, 9, 178]\n",
      "-------------\n",
      "shuffle  None\n"
     ]
    }
   ],
   "source": [
    "import random as rn\n",
    "\n",
    "print('rnadom ',rn.random())\n",
    "print('-------------')\n",
    "print('rnadint ',rn.randint(1,20))\n",
    "print('-------------')\n",
    "print('uniform ',rn.uniform(1,20))\n",
    "print('-------------')\n",
    "print('randrange ',rn.randrange(150))\n",
    "print('-------------')\n",
    "print('randrange ',rn.randrange(0,20,2))\n",
    "print('-------------')\n",
    "print('choice ',rn.choice(['a','c','d']))\n",
    "print('-------------')\n",
    "print('choice ',rn.choice('sweet home alabama'))\n",
    "print('-------------')\n",
    "print('sample ',rn.sample(range(200),5))\n",
    "print('-------------')\n",
    "items = [1,2,3,4,5,6]\n",
    "print('shuffle ',rn.shuffle(items))"
   ]
  },
  {
   "cell_type": "markdown",
   "metadata": {},
   "source": [
    "## ***Functions***"
   ]
  },
  {
   "cell_type": "code",
   "execution_count": 6,
   "metadata": {},
   "outputs": [
    {
     "name": "stdout",
     "output_type": "stream",
     "text": [
      "**\n",
      "**\n",
      "**\n",
      "---------\n",
      "\n",
      "average is  26.5\n",
      "---------\n",
      "\n",
      "the numbers are: (4, 34, 2, 4545, 654, 3, 32)\n",
      "the sum of the numbers is:  5274\n",
      "average is:  753.4285714285714\n",
      "---------\n",
      "\n",
      "FIRST NORMAL ARG:  ahmad\n",
      "another arg through mohammed\n",
      "another arg through mona\n",
      "another arg through sameh\n",
      "---------\n",
      "\n",
      "{'one': 1, 'tow': 2}\n",
      "---------\n",
      "\n",
      "one = 1\n",
      "tow = 2\n",
      "three = 3\n",
      "four = 4\n",
      "---------\n",
      "\n",
      "name: Pyhton\n",
      "---------\n",
      "\n",
      "a is  1\n",
      "b is  2\n",
      "args is  (3, 4, 5, 6, 7, 8, 9)\n",
      "kwargs is  {}\n",
      "\n",
      "a is  1\n",
      "b is  2\n",
      "args is  (3, 4, 5, 6)\n",
      "kwargs is  {'c': 7, 'd': 8, 'e': 9}\n"
     ]
    }
   ],
   "source": [
    "   # with out input\n",
    "def star():\n",
    "    for i in range(3):\n",
    "        while i <3:\n",
    "            print('**')\n",
    "            i= i+3\n",
    "star()\n",
    "print('---------')\n",
    "print()\n",
    "\n",
    "\n",
    "   # input 1\n",
    "def find_avg(a,b):\n",
    "    average = (a+b)/2\n",
    "    print('average is ',average)\n",
    "\n",
    "find_avg(44,9)\n",
    "print('---------')\n",
    "print()\n",
    "\n",
    "\n",
    "   # *args \n",
    "def find_avg1(*numbers):\n",
    "    sum = 0\n",
    "    for i in numbers:\n",
    "        sum += i\n",
    "    print('the numbers are:',numbers) \n",
    "    print('the sum of the numbers is: ',sum)   \n",
    "    print('average is: ', sum/(len(numbers)))\n",
    "    \n",
    "find_avg1(4,34,2,4545,654,3,32)\n",
    "print('---------')\n",
    "print()\n",
    "\n",
    "\n",
    "   # input1 + *arges\n",
    "def test_var_args(f,*ff):\n",
    "    print('FIRST NORMAL ARG: ',f)\n",
    "    for i in ff:\n",
    "        print('another arg through',i)\n",
    "\n",
    "test_var_args('ahmad','mohammed','mona','sameh')\n",
    "print('---------')\n",
    "print()\n",
    "\n",
    "\n",
    "   # **kwargs\n",
    "def print_values(**values):\n",
    "    print(values)\n",
    "\n",
    "print_values(one=1,tow=2)\n",
    "print('---------')\n",
    "print()\n",
    "\n",
    "\n",
    "def print_value(**value):\n",
    "    for key,value in value.items():\n",
    "        print('{} = {}'.format(key,value))\n",
    "\n",
    "print_value(one=1, tow=2, three=3, four=4)\n",
    "print('---------')\n",
    "print()\n",
    "\n",
    "\n",
    "def greet_me(**kwarges):\n",
    "    if kwarges is not None:\n",
    "        for key, value in kwarges.items():\n",
    "            print('%s: %s' %(key,value))\n",
    "\n",
    "greet_me(name= 'Pyhton')"
   ]
  },
  {
   "cell_type": "code",
   "execution_count": 15,
   "metadata": {},
   "outputs": [
    {
     "name": "stdout",
     "output_type": "stream",
     "text": [
      "a is  1\n",
      "b is  2\n",
      "args is  (3, 4, 5, 6, 7, 8, 9)\n",
      "kwargs is  {}\n",
      "\n",
      "a is  1\n",
      "b is  2\n",
      "args is  (3, 4, 5, 6)\n",
      "kwargs is  {'c': 7, 'd': 8, 'e': 9}\n",
      "---------\n",
      "\n",
      "125\n",
      "---------\n",
      "\n",
      "8\n",
      "---------\n",
      "\n"
     ]
    }
   ],
   "source": [
    "  # input1 + args + kwargs\n",
    "def show_details(a,b,*args,**kwargs):\n",
    "    print(\"a is \",a)\n",
    "    print('b is ',b)\n",
    "    print('args is ',args)\n",
    "    print('kwargs is ',kwargs)\n",
    "show_details(1,2,3,4,5,6,7,8,9)\n",
    "print()\n",
    "show_details(1,2,3,4,5,6,c= 7,d= 8, e=9)\n",
    "print('---------')\n",
    "print()\n",
    "\n",
    "\n",
    "  # اعطاء قيم افتراضية للدالة يتم استخدامها اذا لم يتم تحديدها\n",
    "def powers(m,n= 4):\n",
    "    print(m**(n))\n",
    "\n",
    "powers(5,3)\n",
    "print('---------')\n",
    "print()\n",
    "\n",
    "\n",
    "  # return\n",
    "def power(y,c):\n",
    "    x = y**c\n",
    "    return x\n",
    "print(power(2,3))\n",
    "print('---------')\n",
    "print()"
   ]
  },
  {
   "cell_type": "code",
   "execution_count": 19,
   "metadata": {},
   "outputs": [
    {
     "name": "stdout",
     "output_type": "stream",
     "text": [
      "11\n",
      "---------\n",
      "\n",
      "3125\n",
      "---------\n",
      "\n",
      "1\n",
      "5\n",
      "25\n",
      "125\n",
      "---------\n",
      "\n",
      "[0, 2, 4, 6, 8]\n",
      "[1, 3, 5, 7, 9]\n"
     ]
    }
   ],
   "source": [
    "  # استخدامات متداخلة في الدوال\n",
    "def powr(y,c):\n",
    "    x = y**c\n",
    "    return x\n",
    "def times4(xx):\n",
    "    z = 4*xx\n",
    "    return z\n",
    "def add7(zz):\n",
    "    w = zz+7\n",
    "    return w\n",
    "\n",
    "d = int(input('first: '))\n",
    "dd = int(input('second: '))\n",
    "print(add7(times4(powr(d,dd))))\n",
    "print('---------')\n",
    "print()\n",
    "\n",
    "\n",
    "  # lambda \n",
    "powerss = lambda x,y: x**y\n",
    "print(powerss(5,5))\n",
    "print('---------')\n",
    "print()\n",
    "\n",
    "  # lambda 2\n",
    "powerss2 = [lambda x: 1,lambda x: x,lambda x: x**2,lambda x: x**3]\n",
    "print(powerss2[0](5))\n",
    "print(powerss2[1](5))\n",
    "print(powerss2[2](5))\n",
    "print(powerss2[3](5))\n",
    "print('---------')\n",
    "print()\n"
   ]
  },
  {
   "cell_type": "code",
   "execution_count": 24,
   "metadata": {},
   "outputs": [
    {
     "name": "stdout",
     "output_type": "stream",
     "text": [
      "[0, 2, 4, 6, 8]\n",
      "[1, 3, 5, 7, 9]\n",
      "---------\n",
      "\n",
      "square list [0, 1, 4, 9, 16, 25, 36, 49, 64, 81]\n",
      "---------\n",
      "\n",
      "[0, 1, 8, 27, 64, 125, 216, 343, 512, 729]\n",
      "---------\n",
      "\n",
      "[0]\n",
      "[1]\n",
      "[2]\n",
      "[3]\n",
      "[4]\n",
      "[5]\n",
      "[6]\n",
      "[7]\n",
      "[8]\n",
      "[9]\n"
     ]
    }
   ],
   "source": [
    "  # filter\n",
    "mylist = [0,1,2,3,4,5,6,7,8,9]\n",
    "evennumber = list(filter(lambda x: x % 2 == 0, mylist))\n",
    "oddnumber = list(filter(lambda x: x % 2 == 1, mylist))\n",
    "print(evennumber)\n",
    "print(oddnumber)\n",
    "print('---------')\n",
    "print()\n",
    "\n",
    "\n",
    "  # map \n",
    "print('square list', list(map(lambda x: x**2, mylist)))\n",
    "print('---------')\n",
    "print()\n",
    "\n",
    "def cpower(x):\n",
    "    return x**3\n",
    "print(list(map(lambda x: cpower(x) , mylist)))\n",
    "print('---------')\n",
    "print()\n",
    "\n",
    "\n",
    "  # yeld\n",
    "def yie():\n",
    "    for i in range(10):\n",
    "        yield i\n",
    "for g in yie():\n",
    "    print((g))"
   ]
  },
  {
   "cell_type": "markdown",
   "metadata": {},
   "source": [
    "## ***Class (oop)***"
   ]
  },
  {
   "cell_type": "code",
   "execution_count": 17,
   "metadata": {},
   "outputs": [
    {
     "name": "stdout",
     "output_type": "stream",
     "text": [
      "  6 \n",
      " white\n",
      "--------\n",
      "\n",
      "('ali', 'khaled', 'mossa') \n",
      " ('G', 'D', 'M', 'F') \n",
      " ('left', 'right')\n",
      "--------\n",
      "\n",
      "green\n",
      "green\n",
      "--------\n",
      "\n",
      "white\n",
      "green\n",
      "--------\n",
      "\n",
      "1600\n",
      "125000\n",
      "--------\n",
      "\n",
      "100\n",
      "8000\n"
     ]
    }
   ],
   "source": [
    "class car:\n",
    "    length = 15\n",
    "    width = 8\n",
    "    height = 6\n",
    "    color = 'white'\n",
    "    volume = length * width * height\n",
    "volvo = car\n",
    "print(' ',volvo.height,'\\n',volvo.color)\n",
    "print('--------')\n",
    "print()\n",
    "\n",
    "\n",
    "class football :\n",
    "    player_name = 'ali','khaled','mossa'\n",
    "    pos = 'G','D','M','F'\n",
    "    foot = 'left','right'\n",
    "fo = football\n",
    "print(fo.player_name,'\\n',fo.pos,'\\n',fo.foot)\n",
    "print('--------')\n",
    "print()\n",
    "\n",
    "\n",
    "  #class variable\n",
    "class car():\n",
    "    color = 'blue'\n",
    "volvo = car\n",
    "nissan = car\n",
    "\n",
    "volvo.color = 'white'\n",
    "nissan.color = 'green'\n",
    "print(volvo.color)\n",
    "print(nissan.color)\n",
    "print('--------')\n",
    "print()\n",
    "\n",
    "\n",
    "  #instance variable\n",
    "class car():\n",
    "    def __init__(self, color):\n",
    "        self.color = color\n",
    "volvo = car('white')\n",
    "nissan = car('green')\n",
    "print(volvo.color)\n",
    "print(nissan.color)\n",
    "print('--------')\n",
    "print()\n",
    "\n",
    "\n",
    "class calc:\n",
    "    def __init__(self,p2,p3):\n",
    "        self.power2 = p2**2\n",
    "        self.power3 = p3**3\n",
    "a = calc(40,50)\n",
    "print(a.power2)\n",
    "print(a.power3)\n",
    "print('--------')\n",
    "print()\n",
    "\n",
    "\n",
    "class d:\n",
    "    def __init__(self,p2=10,p3=20):\n",
    "        self.power2 = p2**2\n",
    "        self.power3 = p3**3\n",
    "a = d()\n",
    "print(a.power2)\n",
    "print(a.power3)"
   ]
  },
  {
   "cell_type": "code",
   "execution_count": 26,
   "metadata": {},
   "outputs": [
    {
     "name": "stdout",
     "output_type": "stream",
     "text": [
      "50.0\n",
      "--------\n",
      "\n",
      "9\n",
      "55\n"
     ]
    }
   ],
   "source": [
    "  #methods\n",
    "class d:\n",
    "    def __init__(self,nn,p2= 10,p3=100):\n",
    "      self.power2 = p2**2\n",
    "      self.power3 = p3**100\n",
    "      self.roots = nn\n",
    "  \n",
    "    def root(self):\n",
    "      print(self.roots**0.5)\n",
    "\n",
    "a = d(2500)\n",
    "a.root()\n",
    "print('--------')\n",
    "print()\n",
    "\n",
    "\n",
    "  #without __init__\n",
    "class d:\n",
    "    def square(n):\n",
    "      print(n**2)\n",
    "\n",
    "    def summ(a,b,c,d,e,f):\n",
    "      return ((a+b-c+e)*(d+f))\n",
    "a = d\n",
    "a.square(3)\n",
    "print(a.summ(1,2,3,4,5,7))"
   ]
  },
  {
   "cell_type": "markdown",
   "metadata": {},
   "source": [
    "## ***Top 10 python for daily basis work***"
   ]
  },
  {
   "cell_type": "markdown",
   "metadata": {},
   "source": [
    "***Language Detection***"
   ]
  },
  {
   "cell_type": "code",
   "execution_count": 3,
   "metadata": {},
   "outputs": [
    {
     "name": "stdout",
     "output_type": "stream",
     "text": [
      "en\n"
     ]
    }
   ],
   "source": [
    "  # importing library \n",
    "from langdetect import detect\n",
    "\n",
    "  # taking input from user \n",
    "text = input(\"Enter any text in any language: \")\n",
    "\n",
    "  # printing output\n",
    "print(detect(text))\n",
    "\n",
    "# clcoding.com"
   ]
  },
  {
   "cell_type": "markdown",
   "metadata": {},
   "source": [
    "***Country info***"
   ]
  },
  {
   "cell_type": "code",
   "execution_count": 4,
   "metadata": {},
   "outputs": [
    {
     "name": "stdout",
     "output_type": "stream",
     "text": [
      "Capital is:  N'Djamena\n",
      "Currencies is:  ['XAF']\n",
      "Lanuage is:  ['fr', 'ar']\n",
      "Borders are:  ['CMR', 'CAF', 'LBY', 'NER', 'NGA', 'SSD']\n",
      "Others names:  ['TD', 'Tchad', 'Republic of Chad', 'République du Tchad']\n"
     ]
    }
   ],
   "source": [
    "from countryinfo import CountryInfo\n",
    "count = input('Enter your counrty: ')\n",
    "country = CountryInfo(count)\n",
    "print('Capital is: ',country.capital())\n",
    "print('Currencies is: ',country.currencies())\n",
    "print('Lanuage is: ',country.languages())\n",
    "print('Borders are: ',country.borders())\n",
    "print('Others names: ',country.alt_spellings())"
   ]
  },
  {
   "cell_type": "markdown",
   "metadata": {},
   "source": [
    "***Live Weather Updates***"
   ]
  },
  {
   "cell_type": "code",
   "execution_count": 50,
   "metadata": {},
   "outputs": [
    {
     "name": "stdout",
     "output_type": "stream",
     "text": [
      "Searching.....\n",
      "\n"
     ]
    },
    {
     "ename": "IndexError",
     "evalue": "list index out of range",
     "output_type": "error",
     "traceback": [
      "\u001b[1;31m---------------------------------------------------------------------------\u001b[0m",
      "\u001b[1;31mIndexError\u001b[0m                                Traceback (most recent call last)",
      "\u001b[1;32mc:\\Users\\holol\\Desktop\\work speas\\Data_Scientsts\\python\\jupiter\\Data Science Libraries\\py Examples.ipynb Cell 72\u001b[0m in \u001b[0;36m<cell line: 20>\u001b[1;34m()\u001b[0m\n\u001b[0;32m     <a href='vscode-notebook-cell:/c%3A/Users/holol/Desktop/work%20speas/Data_Scientsts/python/jupiter/Data%20Science%20Libraries/py%20Examples.ipynb#Y144sZmlsZQ%3D%3D?line=17'>18</a>\u001b[0m city \u001b[39m=\u001b[39m \u001b[39minput\u001b[39m(\u001b[39m'\u001b[39m\u001b[39mEnter the Name of any City:   \u001b[39m\u001b[39m'\u001b[39m)\n\u001b[0;32m     <a href='vscode-notebook-cell:/c%3A/Users/holol/Desktop/work%20speas/Data_Scientsts/python/jupiter/Data%20Science%20Libraries/py%20Examples.ipynb#Y144sZmlsZQ%3D%3D?line=18'>19</a>\u001b[0m city \u001b[39m=\u001b[39m city\u001b[39m+\u001b[39m\u001b[39m'\u001b[39m\u001b[39m weather\u001b[39m\u001b[39m'\u001b[39m\n\u001b[1;32m---> <a href='vscode-notebook-cell:/c%3A/Users/holol/Desktop/work%20speas/Data_Scientsts/python/jupiter/Data%20Science%20Libraries/py%20Examples.ipynb#Y144sZmlsZQ%3D%3D?line=19'>20</a>\u001b[0m weather(city)\n",
      "\u001b[1;32mc:\\Users\\holol\\Desktop\\work speas\\Data_Scientsts\\python\\jupiter\\Data Science Libraries\\py Examples.ipynb Cell 72\u001b[0m in \u001b[0;36mweather\u001b[1;34m(city)\u001b[0m\n\u001b[0;32m      <a href='vscode-notebook-cell:/c%3A/Users/holol/Desktop/work%20speas/Data_Scientsts/python/jupiter/Data%20Science%20Libraries/py%20Examples.ipynb#Y144sZmlsZQ%3D%3D?line=7'>8</a>\u001b[0m \u001b[39mprint\u001b[39m(\u001b[39m'\u001b[39m\u001b[39mSearching.....\u001b[39m\u001b[39m\\n\u001b[39;00m\u001b[39m'\u001b[39m)\n\u001b[0;32m      <a href='vscode-notebook-cell:/c%3A/Users/holol/Desktop/work%20speas/Data_Scientsts/python/jupiter/Data%20Science%20Libraries/py%20Examples.ipynb#Y144sZmlsZQ%3D%3D?line=8'>9</a>\u001b[0m soup \u001b[39m=\u001b[39m BeautifulSoup(res\u001b[39m.\u001b[39mtext,\u001b[39m'\u001b[39m\u001b[39mhtml.parser\u001b[39m\u001b[39m'\u001b[39m)\n\u001b[1;32m---> <a href='vscode-notebook-cell:/c%3A/Users/holol/Desktop/work%20speas/Data_Scientsts/python/jupiter/Data%20Science%20Libraries/py%20Examples.ipynb#Y144sZmlsZQ%3D%3D?line=9'>10</a>\u001b[0m location \u001b[39m=\u001b[39m soup\u001b[39m.\u001b[39;49mselect(\u001b[39m'\u001b[39;49m\u001b[39m#wob_loc\u001b[39;49m\u001b[39m'\u001b[39;49m)[\u001b[39m0\u001b[39;49m]\u001b[39m.\u001b[39mget_text()\u001b[39m.\u001b[39mstrip()\n\u001b[0;32m     <a href='vscode-notebook-cell:/c%3A/Users/holol/Desktop/work%20speas/Data_Scientsts/python/jupiter/Data%20Science%20Libraries/py%20Examples.ipynb#Y144sZmlsZQ%3D%3D?line=10'>11</a>\u001b[0m time \u001b[39m=\u001b[39m soup\u001b[39m.\u001b[39mselect(\u001b[39m'\u001b[39m\u001b[39m#wob_dts\u001b[39m\u001b[39m'\u001b[39m)[\u001b[39m0\u001b[39m]\u001b[39m.\u001b[39mgetText()\u001b[39m.\u001b[39mstrip()\n\u001b[0;32m     <a href='vscode-notebook-cell:/c%3A/Users/holol/Desktop/work%20speas/Data_Scientsts/python/jupiter/Data%20Science%20Libraries/py%20Examples.ipynb#Y144sZmlsZQ%3D%3D?line=11'>12</a>\u001b[0m info \u001b[39m=\u001b[39m soup\u001b[39m.\u001b[39mselect(\u001b[39m'\u001b[39m\u001b[39m#wob_dc\u001b[39m\u001b[39m'\u001b[39m)[\u001b[39m0\u001b[39m]\u001b[39m.\u001b[39mgetText()\u001b[39m.\u001b[39mstrip()\n",
      "\u001b[1;31mIndexError\u001b[0m: list index out of range"
     ]
    }
   ],
   "source": [
    "from bs4 import BeautifulSoup\n",
    "import requests\n",
    "headers = {'User-Agent': 'Mozilla/5.0 (Windows NT 10.0; Win64; x64)/AppleWebKit/537.36 (KHTML, like Gecko) /Chrome/58.0.3029.110 Sagari/537.3'}\n",
    "\n",
    "def weather(city):\n",
    "    city = city.replace(\"\",\"+\")\n",
    "    res = requests.get(f'https://www.google.com/search?q={city}/&oq={city}&aqs=chrome.0.35i3912j014j46j69i60.6128j1j7&sourceid=\\chrome&ie=UTF-8',headers= headers)\n",
    "    print('Searching.....\\n')\n",
    "    soup = BeautifulSoup(res.text,'html.parser')\n",
    "    location = soup.select('#wob_loc')[0].get_text().strip()\n",
    "    time = soup.select('#wob_dts')[0].getText().strip()\n",
    "    info = soup.select('#wob_dc')[0].getText().strip()\n",
    "    weather = soup.select('#wob_tm')[0].getText().strip()\n",
    "    print(location)\n",
    "    print(time)\n",
    "    print(info)\n",
    "    print(weather+'c')\n",
    "city = input('Enter the Name of any City:   ')\n",
    "city = city+' weather'\n",
    "weather(city)"
   ]
  },
  {
   "cell_type": "markdown",
   "metadata": {},
   "source": [
    "***Spelling Correction***"
   ]
  },
  {
   "cell_type": "code",
   "execution_count": 34,
   "metadata": {},
   "outputs": [
    {
     "name": "stdout",
     "output_type": "stream",
     "text": [
      "wrong words:  ['machinr']\n",
      "corrected words are: \n",
      "machine"
     ]
    }
   ],
   "source": [
    "from textblob import TextBlob\n",
    "def Convert(str):\n",
    "    li = list(str.split())\n",
    "    return li\n",
    "str1 = input('Enter your word: ')\n",
    "words = Convert(str1)\n",
    "corrected_words = []\n",
    "for i in words:\n",
    "    corrected_words.append(TextBlob(i))\n",
    "print('wrong words: ',words)\n",
    "print('corrected words are: ')\n",
    "for i in corrected_words:\n",
    "    print(i.correct(), end= '')\n"
   ]
  },
  {
   "cell_type": "markdown",
   "metadata": {},
   "source": [
    "***Extract Text from PDF***"
   ]
  },
  {
   "cell_type": "code",
   "execution_count": 37,
   "metadata": {},
   "outputs": [
    {
     "ename": "FileNotFoundError",
     "evalue": "[Errno 2] No such file or directory: 'Pythonclcoding.pdf'",
     "output_type": "error",
     "traceback": [
      "\u001b[1;31m---------------------------------------------------------------------------\u001b[0m",
      "\u001b[1;31mFileNotFoundError\u001b[0m                         Traceback (most recent call last)",
      "\u001b[1;32mc:\\Users\\holol\\Desktop\\work speas\\Data_Scientsts\\python\\jupiter\\Data Science Libraries\\py Examples.ipynb Cell 77\u001b[0m in \u001b[0;36m<cell line: 2>\u001b[1;34m()\u001b[0m\n\u001b[0;32m      <a href='vscode-notebook-cell:/c%3A/Users/holol/Desktop/work%20speas/Data_Scientsts/python/jupiter/Data%20Science%20Libraries/py%20Examples.ipynb#Y151sZmlsZQ%3D%3D?line=0'>1</a>\u001b[0m \u001b[39mimport\u001b[39;00m \u001b[39mPyPDF2\u001b[39;00m \n\u001b[1;32m----> <a href='vscode-notebook-cell:/c%3A/Users/holol/Desktop/work%20speas/Data_Scientsts/python/jupiter/Data%20Science%20Libraries/py%20Examples.ipynb#Y151sZmlsZQ%3D%3D?line=1'>2</a>\u001b[0m pdf \u001b[39m=\u001b[39m \u001b[39mopen\u001b[39;49m(\u001b[39m'\u001b[39;49m\u001b[39mPythonclcoding.pdf\u001b[39;49m\u001b[39m'\u001b[39;49m, \u001b[39m'\u001b[39;49m\u001b[39mrb\u001b[39;49m\u001b[39m'\u001b[39;49m)\n\u001b[0;32m      <a href='vscode-notebook-cell:/c%3A/Users/holol/Desktop/work%20speas/Data_Scientsts/python/jupiter/Data%20Science%20Libraries/py%20Examples.ipynb#Y151sZmlsZQ%3D%3D?line=2'>3</a>\u001b[0m reader \u001b[39m=\u001b[39m PyPDF2\u001b[39m.\u001b[39mPdfFileReader(pdf)\n\u001b[0;32m      <a href='vscode-notebook-cell:/c%3A/Users/holol/Desktop/work%20speas/Data_Scientsts/python/jupiter/Data%20Science%20Libraries/py%20Examples.ipynb#Y151sZmlsZQ%3D%3D?line=3'>4</a>\u001b[0m page \u001b[39m=\u001b[39m reader\u001b[39m.\u001b[39mgetPage(\u001b[39m0\u001b[39m)\n",
      "\u001b[1;31mFileNotFoundError\u001b[0m: [Errno 2] No such file or directory: 'Pythonclcoding.pdf'"
     ]
    }
   ],
   "source": [
    "import PyPDF2 \n",
    "pdf = open('pythonclcoding.pdf', 'rb')\n",
    "reader = PyPDF2.PdfFileReader(pdf)\n",
    "page = reader.getPage(0)\n",
    "print(page.extractText())"
   ]
  },
  {
   "cell_type": "markdown",
   "metadata": {},
   "source": [
    "***Real-time Currency Converter***"
   ]
  },
  {
   "cell_type": "code",
   "execution_count": 49,
   "metadata": {},
   "outputs": [
    {
     "name": "stdout",
     "output_type": "stream",
     "text": [
      "USD  To  INR\n",
      "7987.217741935484\n"
     ]
    }
   ],
   "source": [
    "from forex_python.converter import CurrencyRates\n",
    "c = CurrencyRates()\n",
    "amount = int(input('Enter the amount: '))\n",
    "from_currency = input('from Currency: ').upper()\n",
    "to_currency = input('To Currency: ').upper()\n",
    "\n",
    "print(from_currency, ' To ', to_currency)\n",
    "result = c.convert(from_currency,to_currency,amount)\n",
    "print(result)"
   ]
  },
  {
   "cell_type": "markdown",
   "metadata": {},
   "source": [
    "***Remove Cuss words***"
   ]
  },
  {
   "cell_type": "code",
   "execution_count": 43,
   "metadata": {},
   "outputs": [
    {
     "name": "stdout",
     "output_type": "stream",
     "text": [
      "**** you\n"
     ]
    }
   ],
   "source": [
    "from better_profanity import profanity\n",
    "text = input('Enter your sentence to check: ')\n",
    "censored = profanity.censor(text)\n",
    "print(censored)"
   ]
  },
  {
   "cell_type": "markdown",
   "metadata": {},
   "source": [
    "***Execution Time***"
   ]
  },
  {
   "cell_type": "code",
   "execution_count": 44,
   "metadata": {},
   "outputs": [
    {
     "name": "stdout",
     "output_type": "stream",
     "text": [
      "Your user name is  mohammedykhalil  and uour domain is  gmail.com\n",
      "Execution time (s) :  23.46432137489319\n"
     ]
    }
   ],
   "source": [
    "from time import time\n",
    "start = time()\n",
    "\n",
    "#code start\n",
    "email = input('Enter you Email: ')\n",
    "email = email.strip()\n",
    "slicer_index = email.index('@')\n",
    "username = email[:slicer_index]\n",
    "domain_name = email[slicer_index+1:]\n",
    "print('Your user name is ', username,' and uour domain is ',domain_name)\n",
    "#code end\n",
    "\n",
    "end = time()\n",
    "execution_time = end - start\n",
    "print('Execution time (s) : ', execution_time)"
   ]
  },
  {
   "cell_type": "markdown",
   "metadata": {},
   "source": [
    "***Voice Recorder***"
   ]
  },
  {
   "cell_type": "code",
   "execution_count": 46,
   "metadata": {},
   "outputs": [
    {
     "name": "stdout",
     "output_type": "stream",
     "text": [
      "Recording....\n",
      "\n",
      "Recording is done please check you folder to listen recording\n"
     ]
    }
   ],
   "source": [
    "import sounddevice\n",
    "from scipy.io.wavfile import write\n",
    "#sample_rate\n",
    "fs = 44100\n",
    "\n",
    "#Ask to inter the recording time\n",
    "second = int(input('Enter the Recording Time in second: '))\n",
    "print('Recording....\\n')\n",
    "record_voice = sounddevice.rec(int(second * fs),samplerate=fs,channels=2)\n",
    "sounddevice.wait()\n",
    "write('MyRecording.wac',fs,record_voice)\n",
    "print('Recording is done please check you folder to listen recording')"
   ]
  },
  {
   "cell_type": "markdown",
   "metadata": {},
   "source": [
    "***Unzip Files***"
   ]
  },
  {
   "cell_type": "code",
   "execution_count": 47,
   "metadata": {},
   "outputs": [
    {
     "ename": "FileNotFoundError",
     "evalue": "[Errno 2] No such file or directory: 'binod.zip'",
     "output_type": "error",
     "traceback": [
      "\u001b[1;31m---------------------------------------------------------------------------\u001b[0m",
      "\u001b[1;31mFileNotFoundError\u001b[0m                         Traceback (most recent call last)",
      "\u001b[1;32mc:\\Users\\holol\\Desktop\\work speas\\Data_Scientsts\\python\\jupiter\\Data Science Libraries\\py Examples.ipynb Cell 87\u001b[0m in \u001b[0;36m<cell line: 3>\u001b[1;34m()\u001b[0m\n\u001b[0;32m      <a href='vscode-notebook-cell:/c%3A/Users/holol/Desktop/work%20speas/Data_Scientsts/python/jupiter/Data%20Science%20Libraries/py%20Examples.ipynb#Y203sZmlsZQ%3D%3D?line=0'>1</a>\u001b[0m \u001b[39mfrom\u001b[39;00m \u001b[39mzipfile\u001b[39;00m \u001b[39mimport\u001b[39;00m ZipFile\n\u001b[1;32m----> <a href='vscode-notebook-cell:/c%3A/Users/holol/Desktop/work%20speas/Data_Scientsts/python/jupiter/Data%20Science%20Libraries/py%20Examples.ipynb#Y203sZmlsZQ%3D%3D?line=2'>3</a>\u001b[0m \u001b[39mwith\u001b[39;00m ZipFile(\u001b[39m'\u001b[39;49m\u001b[39mbinod.zip\u001b[39;49m\u001b[39m'\u001b[39;49m, \u001b[39m'\u001b[39;49m\u001b[39mr\u001b[39;49m\u001b[39m'\u001b[39;49m) \u001b[39mas\u001b[39;00m zip_object:\n\u001b[0;32m      <a href='vscode-notebook-cell:/c%3A/Users/holol/Desktop/work%20speas/Data_Scientsts/python/jupiter/Data%20Science%20Libraries/py%20Examples.ipynb#Y203sZmlsZQ%3D%3D?line=3'>4</a>\u001b[0m     zip_object\u001b[39m.\u001b[39mextractall()\n\u001b[0;32m      <a href='vscode-notebook-cell:/c%3A/Users/holol/Desktop/work%20speas/Data_Scientsts/python/jupiter/Data%20Science%20Libraries/py%20Examples.ipynb#Y203sZmlsZQ%3D%3D?line=5'>6</a>\u001b[0m \u001b[39m#list of files that are archived in the zip file\u001b[39;00m\n",
      "File \u001b[1;32mc:\\Users\\holol\\anaconda3\\lib\\zipfile.py:1239\u001b[0m, in \u001b[0;36mZipFile.__init__\u001b[1;34m(self, file, mode, compression, allowZip64, compresslevel, strict_timestamps)\u001b[0m\n\u001b[0;32m   1237\u001b[0m \u001b[39mwhile\u001b[39;00m \u001b[39mTrue\u001b[39;00m:\n\u001b[0;32m   1238\u001b[0m     \u001b[39mtry\u001b[39;00m:\n\u001b[1;32m-> 1239\u001b[0m         \u001b[39mself\u001b[39m\u001b[39m.\u001b[39mfp \u001b[39m=\u001b[39m io\u001b[39m.\u001b[39;49mopen(file, filemode)\n\u001b[0;32m   1240\u001b[0m     \u001b[39mexcept\u001b[39;00m \u001b[39mOSError\u001b[39;00m:\n\u001b[0;32m   1241\u001b[0m         \u001b[39mif\u001b[39;00m filemode \u001b[39min\u001b[39;00m modeDict:\n",
      "\u001b[1;31mFileNotFoundError\u001b[0m: [Errno 2] No such file or directory: 'binod.zip'"
     ]
    }
   ],
   "source": [
    "from zipfile import ZipFile\n",
    "\n",
    "with ZipFile('binod.zip', 'r') as zip_object:\n",
    "    zip_object.extractall()\n",
    "\n",
    "#list of files that are archived in the zip file\n",
    "print(zip_object.namelist())"
   ]
  },
  {
   "cell_type": "markdown",
   "metadata": {},
   "source": [
    "## ***requests***"
   ]
  },
  {
   "cell_type": "code",
   "execution_count": 2,
   "metadata": {},
   "outputs": [
    {
     "name": "stdout",
     "output_type": "stream",
     "text": [
      "=========================================\n",
      "Request number: 4\n",
      "Email:WD2PK0XDEQgmail.com\n",
      "password:63VICLQ0OY9NTL9ID0T\n"
     ]
    }
   ],
   "source": [
    "import requests\n",
    "import string\n",
    "import random\n",
    "from random import randint\n",
    "\n",
    "\n",
    "def id_generator(size=6,chars= string.ascii_uppercase + string.digits):\n",
    "    return ''.join(random.choice(chars) for _ in range(size))\n",
    "\n",
    "\n",
    "\n",
    "for i in range(5):\n",
    "\n",
    "    username = id_generator(randint(5, 15))\n",
    "    password = id_generator(randint(8, 20))\n",
    "\n",
    "    # send request\n",
    "    files = {\n",
    "        'emile': (None, '{}@gmail.com'.format(username)),\n",
    "        'password': (None,password)\n",
    "    }\n",
    "\n",
    "print('=========================================')\n",
    "print('Request number: {}'.format(i))\n",
    "print('Email:{}\\npassword:{}'.format('{}gmail.com'.format(username),password))\n",
    "\n",
    "response = requests.post('http://mommamme1234@gmail.com',files = files)\n",
    "# print(response.text)"
   ]
  }
 ],
 "metadata": {
  "kernelspec": {
   "display_name": "Python 3.9.12 ('base')",
   "language": "python",
   "name": "python3"
  },
  "language_info": {
   "codemirror_mode": {
    "name": "ipython",
    "version": 3
   },
   "file_extension": ".py",
   "mimetype": "text/x-python",
   "name": "python",
   "nbconvert_exporter": "python",
   "pygments_lexer": "ipython3",
   "version": "3.9.12"
  },
  "orig_nbformat": 4,
  "vscode": {
   "interpreter": {
    "hash": "c104510c646bf96f18b996e66941a6bd207ecb29f3b2c132ad3b1812f0285828"
   }
  }
 },
 "nbformat": 4,
 "nbformat_minor": 2
}
