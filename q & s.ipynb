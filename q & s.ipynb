{
 "cells": [
  {
   "cell_type": "markdown",
   "metadata": {},
   "source": [
    "### ***Write a program to demonstrate different number datatypes in python***"
   ]
  },
  {
   "cell_type": "code",
   "execution_count": 24,
   "metadata": {},
   "outputs": [],
   "source": [
    "def typeof(x='NaN'):\n",
    "    if x == 'NaN':\n",
    "        print('the first type is: {} and it looks like: {}'.format(type(3),3));\n",
    "        print('the second type is: {} and it looks like: {}'.format(type(4.3),4.5));\n",
    "        print('the third type is: {} and it looks like: {}'.format(type(10+24j),10+24j))\n",
    "    else:\n",
    "        print('the type of {} is: {}'.format(x,type(x)));"
   ]
  },
  {
   "cell_type": "code",
   "execution_count": 25,
   "metadata": {},
   "outputs": [
    {
     "name": "stdout",
     "output_type": "stream",
     "text": [
      "the first type is: <class 'int'> and it looks like: 3\n",
      "the second type is: <class 'float'> and it looks like: 4.5\n",
      "the third type is: <class 'complex'> and it looks like: (10+24j)\n",
      "None\n",
      "the type of 5.4 is: <class 'float'>\n",
      "None\n"
     ]
    }
   ],
   "source": [
    "print(typeof())\n",
    "print(typeof(5.4))"
   ]
  },
  {
   "cell_type": "markdown",
   "metadata": {},
   "source": [
    "### ***Write a program to perform different arithematic operations on numbers in python***"
   ]
  },
  {
   "cell_type": "code",
   "execution_count": 5,
   "metadata": {},
   "outputs": [
    {
     "name": "stdout",
     "output_type": "stream",
     "text": [
      "3.0\n"
     ]
    }
   ],
   "source": [
    "num1 = float(input('Enter the first number: '))\n",
    "x = input('Enter the operation: ')\n",
    "num2 = float(input('Enter the second number: '))\n",
    "\n",
    "if x == '+':\n",
    "    z = num1 + num2\n",
    "    print(z)\n",
    "elif x == '-':\n",
    "    z = num1 - num2\n",
    "    print(z)\n",
    "elif x == '/':\n",
    "    z = num1 / num2\n",
    "    print(z)\n",
    "elif x == '*':\n",
    "    z = num1 * num2\n",
    "    print(z)\n",
    "else:\n",
    "    print('the operate is not excist')"
   ]
  },
  {
   "cell_type": "markdown",
   "metadata": {},
   "source": [
    "### ***Write a python script to print the current date in following format “Sun May 29 02:26:23 IST 2017”***"
   ]
  },
  {
   "cell_type": "code",
   "execution_count": 37,
   "metadata": {},
   "outputs": [
    {
     "name": "stdout",
     "output_type": "stream",
     "text": [
      "2022-11-18\n",
      "2022-11-18 14:32:50.760810\n"
     ]
    }
   ],
   "source": [
    "import datetime\n",
    "from datetime import date\n",
    "print(date.today())\n",
    "now = datetime.datetime.now()\n",
    "print(now)"
   ]
  },
  {
   "cell_type": "code",
   "execution_count": 41,
   "metadata": {},
   "outputs": [
    {
     "data": {
      "text/plain": [
       "2022"
      ]
     },
     "execution_count": 41,
     "metadata": {},
     "output_type": "execute_result"
    }
   ],
   "source": [
    "now.year"
   ]
  },
  {
   "attachments": {},
   "cell_type": "markdown",
   "metadata": {},
   "source": [
    "### ***Write a python program to find largest of three numbers***"
   ]
  },
  {
   "cell_type": "code",
   "execution_count": 8,
   "metadata": {},
   "outputs": [],
   "source": [
    "nums = int(input(\"Enter your list numbers: \"))"
   ]
  },
  {
   "attachments": {},
   "cell_type": "markdown",
   "metadata": {},
   "source": [
    "### ***Write a python program to convert temperature to and from Celsius to fahrenheit***"
   ]
  },
  {
   "cell_type": "markdown",
   "metadata": {},
   "source": []
  }
 ],
 "metadata": {
  "kernelspec": {
   "display_name": "Python 3.9.12 ('base')",
   "language": "python",
   "name": "python3"
  },
  "language_info": {
   "codemirror_mode": {
    "name": "ipython",
    "version": 3
   },
   "file_extension": ".py",
   "mimetype": "text/x-python",
   "name": "python",
   "nbconvert_exporter": "python",
   "pygments_lexer": "ipython3",
   "version": "3.9.15"
  },
  "orig_nbformat": 4,
  "vscode": {
   "interpreter": {
    "hash": "c104510c646bf96f18b996e66941a6bd207ecb29f3b2c132ad3b1812f0285828"
   }
  }
 },
 "nbformat": 4,
 "nbformat_minor": 2
}
