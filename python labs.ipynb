{
 "cells": [
  {
   "attachments": {},
   "cell_type": "markdown",
   "metadata": {},
   "source": [
    "### ***Write a program to demonstrate different number datatypes in python***"
   ]
  },
  {
   "cell_type": "code",
   "execution_count": 31,
   "metadata": {},
   "outputs": [],
   "source": [
    "def typeof(x='None'):\n",
    "    if x == 'None':\n",
    "        print('the first type is: {} and it looks like: {}'.format(type(3),3));\n",
    "        print('the second type is: {} and it looks like: {}'.format(type(4.3),4.5));\n",
    "        print('the third type is: {} and it looks like: {}'.format(type(10+24j),10+24j))\n",
    "        print('the forth type is: {} and it looks like: {}'.format(type('hello, world!'),'hello, world!'))\n",
    "        print('the fifth type is: {} and it looks like: {}'.format(type(True),True))\n",
    "        print('the sixth type is: {} and it looks like: {}'.format(type([]),[]))\n",
    "        print('the sevnth type is: {} and it looks like: {}'.format(type({}),{}))\n",
    "    else:\n",
    "        print('the type of {} is: {}'.format(x,type(x)));"
   ]
  },
  {
   "cell_type": "code",
   "execution_count": 32,
   "metadata": {},
   "outputs": [
    {
     "name": "stdout",
     "output_type": "stream",
     "text": [
      "the first type is: <class 'int'> and it looks like: 3\n",
      "the second type is: <class 'float'> and it looks like: 4.5\n",
      "the third type is: <class 'complex'> and it looks like: (10+24j)\n",
      "the forth type is: <class 'str'> and it looks like: hello, world!\n",
      "the fifth type is: <class 'bool'> and it looks like: True\n",
      "the sixth type is: <class 'list'> and it looks like: []\n",
      "None\n",
      "the type of 5.4 is: <class 'float'>\n",
      "None\n"
     ]
    }
   ],
   "source": [
    "print(typeof())\n",
    "print(typeof(5.4))"
   ]
  },
  {
   "attachments": {},
   "cell_type": "markdown",
   "metadata": {},
   "source": [
    "### ***Write a program to perform different arithematic operations on numbers in python***"
   ]
  },
  {
   "cell_type": "code",
   "execution_count": 34,
   "metadata": {},
   "outputs": [
    {
     "name": "stdout",
     "output_type": "stream",
     "text": [
      "20.0\n"
     ]
    }
   ],
   "source": [
    "num1 = float(input('Enter the first number: '))\n",
    "x = input('Enter the operation: ')\n",
    "num2 = float(input('Enter the second number: '))\n",
    "\n",
    "if x == '+':\n",
    "    z = num1 + num2\n",
    "    print(z)\n",
    "elif x == '-':\n",
    "    z = num1 - num2\n",
    "    print(z)\n",
    "elif x == '/':\n",
    "    z = num1 / num2\n",
    "    print(z)\n",
    "elif x == '*':\n",
    "    z = num1 * num2\n",
    "    print(z)\n",
    "else:\n",
    "    print('the operate is not excist')"
   ]
  },
  {
   "attachments": {},
   "cell_type": "markdown",
   "metadata": {},
   "source": [
    "### ***Write a python program to find largest of three numbers***"
   ]
  },
  {
   "cell_type": "code",
   "execution_count": 18,
   "metadata": {},
   "outputs": [
    {
     "data": {
      "text/plain": [
       "151515"
      ]
     },
     "execution_count": 18,
     "metadata": {},
     "output_type": "execute_result"
    }
   ],
   "source": [
    "nums = input(\"Enter your list of numbers splited with ',': \")\n",
    "my_list = [int(i) for i in nums.split(',')]\n",
    "\n",
    "\n",
    "\n",
    "def largest_numbeer(list):\n",
    "    largest_n = my_list[0]\n",
    "    for num in my_list:\n",
    "        if num > largest_n:\n",
    "            largest_n = num\n",
    "    return largest_n\n",
    "    \n",
    "largest_numbeer(my_list)"
   ]
  },
  {
   "attachments": {},
   "cell_type": "markdown",
   "metadata": {},
   "source": [
    "### ***Write a program to give the claint a resterant minu so he can make an order***"
   ]
  },
  {
   "cell_type": "code",
   "execution_count": 25,
   "metadata": {},
   "outputs": [],
   "source": [
    "class Resterant:\n",
    "    menu = {\n",
    "        'water':2, 'tee':3, 'juice':5, 'rice':15, 'meat':50, 'chicken':30, 'flafel':7, 'egg':3, 'potato':20\n",
    "    }\n",
    "    \n",
    "    def __init__(self):\n",
    "        self.total = 0\n",
    "        self.items = {}\n",
    "        \n",
    "    def add(self, item, count):\n",
    "        if item in self.menu:\n",
    "            self.items[item] = count # self.menu[item]\n",
    "            self.total += self.menu[item] * self.items[item]\n",
    "    \n",
    "    def Billing_details(self):\n",
    "        print('Your order is :')\n",
    "        for i in self.items:\n",
    "            print(f'{i:5} x {self.items[i]}')\n",
    "        \n",
    "        print(\"=\"*50)\n",
    "        print(f'the total is :{self.total}')"
   ]
  },
  {
   "cell_type": "code",
   "execution_count": 28,
   "metadata": {},
   "outputs": [
    {
     "name": "stdout",
     "output_type": "stream",
     "text": [
      "please select your order from the minu billow: \n",
      " {'water': 2, 'tee': 3, 'juice': 5, 'rice': 15, 'meat': 50, 'chicken': 30, 'flafel': 7, 'egg': 3, 'potato': 20}\n",
      "Your order is :\n",
      "water x 5\n",
      "rice  x 2\n",
      "juice x 3\n",
      "==================================================\n",
      "the total is :55\n",
      "None\n"
     ]
    }
   ],
   "source": [
    "msmt = Resterant()\n",
    "print(f'please select your order from the minu billow: \\n {msmt.menu}')\n",
    "while True:\n",
    "    it = input('what is item that you select: ')\n",
    "    if it in msmt.menu:\n",
    "        co = int(input('you many do you wnat from this item:'))\n",
    "        msmt.add(it,co)\n",
    "        cs = input('do you want conteue? [y / n]')\n",
    "        if cs.lower() == 'y':\n",
    "            continue\n",
    "        else:\n",
    "            break\n",
    "    else:\n",
    "        print('sorry the item that you select was not there')\n",
    "        continue\n",
    "\n",
    "print(msmt.Billing_details())"
   ]
  },
  {
   "attachments": {},
   "cell_type": "markdown",
   "metadata": {},
   "source": [
    "### ***Write a python program to convert temperature to and from Celsius to fahrenheit***"
   ]
  },
  {
   "cell_type": "code",
   "execution_count": 5,
   "metadata": {},
   "outputs": [
    {
     "data": {
      "text/plain": [
       "-11.11111111111111"
      ]
     },
     "execution_count": 5,
     "metadata": {},
     "output_type": "execute_result"
    }
   ],
   "source": [
    "cORf = input(\"what is the temperature that you want to convert from: [c or f]\")\n",
    "degree = int(input(\"Enter the degree: \"))\n",
    "\n",
    "\n",
    "\n",
    "def convert(cf, degree):\n",
    "    if cf == 'f' or cf == 'F':\n",
    "        c = (degree-32) * 5/9\n",
    "        return c\n",
    "    \n",
    "    elif cf == 'c' or cf == 'C':\n",
    "        f = (degree * 9/5) + 32\n",
    "        return f\n",
    "    \n",
    "    else:\n",
    "        return \"sorry, something wrong, please enter [c or f]\"\n",
    "        \n",
    "\n",
    "convert(cORf, degree)"
   ]
  },
  {
   "attachments": {},
   "cell_type": "markdown",
   "metadata": {},
   "source": [
    "### ***Odd Or Even***"
   ]
  },
  {
   "attachments": {},
   "cell_type": "markdown",
   "metadata": {},
   "source": [
    "***Ask the user for a number. Depending on whether the number is even or odd, print out an appropriate message to the user. Hint: how does an even / odd number react differently when divided by 2?***"
   ]
  },
  {
   "cell_type": "code",
   "execution_count": 16,
   "metadata": {},
   "outputs": [
    {
     "name": "stdout",
     "output_type": "stream",
     "text": [
      "Even number\n",
      "closing game\n"
     ]
    }
   ],
   "source": [
    "num = input(\"please enter a number that you want check if it's odd or even\")\n",
    "\n",
    "def odd_or_even(number):\n",
    "    try:\n",
    "        number = int(number)\n",
    "        if number % 2 == 0:\n",
    "            print('Even number')\n",
    "            print(\"closing game\")\n",
    "            \n",
    "        else:\n",
    "            print(\"Odd number\")\n",
    "            print(\"closing game\")\n",
    "        \n",
    "        \n",
    "    except ValueError:\n",
    "        print('Please Enter a valid Number ')\n",
    "        \n",
    "    \n",
    "        \n",
    "odd_or_even(num)"
   ]
  },
  {
   "cell_type": "code",
   "execution_count": 27,
   "metadata": {},
   "outputs": [
    {
     "name": "stdout",
     "output_type": "stream",
     "text": [
      "Even number\n",
      "closing game\n",
      "None\n",
      "Odd number\n",
      "closing game\n",
      "None\n",
      "Even number\n",
      "closing game\n",
      "None\n",
      "Odd number\n",
      "closing game\n",
      "None\n",
      "Even number\n",
      "closing game\n",
      "None\n"
     ]
    }
   ],
   "source": [
    "for i in range(5):\n",
    "    print(odd_or_even(i))"
   ]
  },
  {
   "attachments": {},
   "cell_type": "markdown",
   "metadata": {},
   "source": [
    "### ***Character Input***"
   ]
  },
  {
   "attachments": {},
   "cell_type": "markdown",
   "metadata": {},
   "source": [
    "***Create a program that asks the user to enter their name and their age. Print out a message addressed to them that tells them the year that they will turn 100 years old. Note: for this exercise, the expectation is that you explicitly write out the year (and therefore be out of date the next year). If you want to do this in a generic way, see exercise 39.***"
   ]
  },
  {
   "cell_type": "code",
   "execution_count": 5,
   "metadata": {},
   "outputs": [
    {
     "name": "stdout",
     "output_type": "stream",
     "text": [
      "hello  Mohammed\n",
      "You were born in 1996\n",
      "your are gonna be 34 in 2030\n",
      "your are gonna be 49 in 2045\n",
      "your are gonna be 74 in 2070\n"
     ]
    }
   ],
   "source": [
    "name = input(\"Please Enter Your Name: \")\n",
    "age = input(\"Please Enter Your Age: \")\n",
    "year = 2023\n",
    "try:\n",
    "    age = int(age)\n",
    "except:\n",
    "    print('Some thing wrong, please enter your age')\n",
    "born = year - age\n",
    "years = [2030,2045,2057,2070]\n",
    "\n",
    "\n",
    "\n",
    "print('hello ',name)\n",
    "print(f\"You were born in {born}\")\n",
    "for y in years:\n",
    "    print('your are gonna be {} in {}'.format(y-born,y))"
   ]
  },
  {
   "attachments": {},
   "cell_type": "markdown",
   "metadata": {},
   "source": [
    "### ***List Less Than Ten***"
   ]
  },
  {
   "attachments": {},
   "cell_type": "markdown",
   "metadata": {},
   "source": [
    "***Take a list, and write a program that prints out all the elements of the list that are less than 20.***"
   ]
  },
  {
   "cell_type": "code",
   "execution_count": 12,
   "metadata": {},
   "outputs": [
    {
     "name": "stdout",
     "output_type": "stream",
     "text": [
      "[2, 1, 5, 6, 11]\n"
     ]
    }
   ],
   "source": [
    "numbers = input(\"Enter your list numbers splited with ',': \")\n",
    "my_list = [int(i) for i in numbers.split(',')]\n",
    "\n",
    "new_list = []\n",
    "for i in my_list:\n",
    "    if i <= 20:\n",
    "        new_list.append(i)\n",
    "        \n",
    "print(\"these are the numbers that are less then 20: \",new_list)"
   ]
  },
  {
   "attachments": {},
   "cell_type": "markdown",
   "metadata": {},
   "source": [
    "### ***Divisors***"
   ]
  },
  {
   "attachments": {},
   "cell_type": "markdown",
   "metadata": {},
   "source": [
    "***Create a program that asks the user for a number and then prints out a list of all the divisors of that number. (If you don’t know what a divisor is, it is a number that divides evenly into another number. For example, 13 is a divisor of 26 because 26 / 13 has no remainder.)***"
   ]
  },
  {
   "cell_type": "code",
   "execution_count": 17,
   "metadata": {},
   "outputs": [
    {
     "name": "stdout",
     "output_type": "stream",
     "text": [
      "the divisors of 21 are: \n",
      " [0, 21, 42, 63, 84, 105, 126, 147, 168, 189, 210, 231, 252, 273, 294, 315, 336, 357, 378, 399, 420, 441, 462, 483]\n"
     ]
    }
   ],
   "source": [
    "num = input(\"Please Enter a number: \")\n",
    "try:\n",
    "    num = int(num)\n",
    "except ValueError as err:\n",
    "    print('there is an error, ',err)\n",
    "    print(\"please enter a valid number: \")\n",
    "    \n",
    "\n",
    "list_num = []\n",
    "for i in range(500):\n",
    "    if i % num == 0:\n",
    "        list_num.append(i)\n",
    "        \n",
    "print(f\"the divisors of {num} are: \\n\",list_num)"
   ]
  },
  {
   "attachments": {},
   "cell_type": "markdown",
   "metadata": {},
   "source": [
    "### ***List Overlap***"
   ]
  },
  {
   "attachments": {},
   "cell_type": "markdown",
   "metadata": {},
   "source": [
    "***and write a program that returns a list that contains only the elements that are common between the lists (without duplicates). Make sure your program works on two lists of different sizes.***"
   ]
  },
  {
   "cell_type": "code",
   "execution_count": 30,
   "metadata": {},
   "outputs": [
    {
     "name": "stdout",
     "output_type": "stream",
     "text": [
      "[7, 8, 99, 3, 44]\n",
      "\n",
      "{3, 99, 7, 8, 44}\n"
     ]
    }
   ],
   "source": [
    "list1 = [2,4,6,7,8,99,3,44,55,11]\n",
    "list2 = [7,8,99,3,44,23,43,45,41]\n",
    "\n",
    "l = []\n",
    "for i in list1:\n",
    "    for n in list2:\n",
    "        if i == n:\n",
    "            l.append(i)\n",
    "       \n",
    "print(l)     \n",
    "print()\n",
    "print(set( list1[x] for x in range(len(list1))if list1[x] in list2 ))"
   ]
  },
  {
   "attachments": {},
   "cell_type": "markdown",
   "metadata": {},
   "source": [
    "### ***String Lists***"
   ]
  },
  {
   "attachments": {},
   "cell_type": "markdown",
   "metadata": {},
   "source": [
    "***Ask the user for a string and print out whether this string is a palindrome or not. (A palindrome is a string that reads the same forwards and backwards.)***"
   ]
  },
  {
   "cell_type": "code",
   "execution_count": 16,
   "metadata": {},
   "outputs": [
    {
     "name": "stdout",
     "output_type": "stream",
     "text": [
      "the string is:  dsfsdf\n",
      "this string is not palindrome\n"
     ]
    }
   ],
   "source": [
    "string = input(\"Please Enter a string: \")\n",
    "\n",
    "if string == string[::-1]:\n",
    "    print('the string is: ',string)\n",
    "    print('this string is palindrome')\n",
    "else:\n",
    "    print('the string is: ',string)\n",
    "    print('this string is not palindrome')"
   ]
  },
  {
   "cell_type": "code",
   "execution_count": 10,
   "metadata": {},
   "outputs": [
    {
     "name": "stdout",
     "output_type": "stream",
     "text": [
      "fdsfsf\n",
      "fsfsdf\n"
     ]
    }
   ],
   "source": [
    "print(string)\n",
    "a = -len(string)\n",
    "print(string[::-1])"
   ]
  },
  {
   "attachments": {},
   "cell_type": "markdown",
   "metadata": {},
   "source": [
    "### ***List Comprehensions***"
   ]
  },
  {
   "attachments": {},
   "cell_type": "markdown",
   "metadata": {},
   "source": [
    "***Let’s say I give you a list saved in a variable: a = [1, 4, 9, 16, 25, 36, 49, 64, 81, 100]. Write one line of Python that takes this list a and makes a new list that has only the even elements of this list in it.***"
   ]
  },
  {
   "cell_type": "code",
   "execution_count": 4,
   "metadata": {},
   "outputs": [
    {
     "data": {
      "text/plain": [
       "[4, 16, 36, 64, 100]"
      ]
     },
     "execution_count": 4,
     "metadata": {},
     "output_type": "execute_result"
    }
   ],
   "source": [
    "a = [1, 4, 9, 16, 25, 36, 49, 64, 81, 100]\n",
    "\n",
    "[i for i in a if i%2 == 0]"
   ]
  },
  {
   "attachments": {},
   "cell_type": "markdown",
   "metadata": {},
   "source": [
    "### ***Rock Paper Scissors***"
   ]
  },
  {
   "attachments": {},
   "cell_type": "markdown",
   "metadata": {},
   "source": [
    "***Make a two-player Rock-Paper-Scissors game. (Hint: Ask for player plays (using input), compare them, print out a message of congratulations to the winner, and ask if the players want to start a new game)***"
   ]
  },
  {
   "cell_type": "code",
   "execution_count": 8,
   "metadata": {},
   "outputs": [
    {
     "name": "stdout",
     "output_type": "stream",
     "text": [
      "Computer won:    rock    |    * paper\n",
      "Draw:    paper    |    paper\n",
      "Computer won:    paper    |    * scissors\n",
      "Draw:    rock    |    rock\n",
      "Draw:    rock    |    rock\n",
      "Draw:    rock    |    rock\n",
      "Computer won:    paper    |    * scissors\n",
      "Computer won:    paper    |    * scissors\n",
      "Draw:    paper    |    paper\n",
      "Draw:    paper    |    paper\n",
      "you won:    * rock    |    scissors\n",
      "Wrong choice, Please choose one of the following options: ['rock', 'paper', 'scissors']\n",
      "Computer won:    rock    |    * paper\n"
     ]
    }
   ],
   "source": [
    "import random\n",
    "choises = ['rock','paper','scissors']\n",
    "\n",
    "\n",
    "while True:\n",
    "    computer = random.choice(choises)\n",
    "    player1 = input(f\"please choose one of the {choises}\").lower()\n",
    "    if player1 == 'paper' or player1 == 'rock' or player1 == 'scissors':\n",
    "        \n",
    "        \n",
    "        if player1 == computer:\n",
    "            print(\"It's a tie!:   \",player1, '   |   ' , computer)\n",
    "            \n",
    "        elif player1 == 'paper' and computer == 'rock':\n",
    "            print('you won:   ','*',player1, '   |   ' , computer)\n",
    "        elif computer == 'paper' and player1 == 'rock':\n",
    "            print('Computer won:   ',player1, '   |   ' , '*',computer)\n",
    "            \n",
    "        elif player1 == 'paper' and computer == 'scissors':\n",
    "            print('Computer won:   ',player1, '   |   ' , '*',computer)\n",
    "        elif computer == 'paper' and player1 == 'scissors':\n",
    "            print('you won:   ','*',player1, '   |   ' , computer)\n",
    "            \n",
    "        elif player1 == 'scissors' and computer == 'rock':\n",
    "            print('Computer won:   ',player1, '   |   ' , '*',computer)\n",
    "        elif computer == 'scissors' and player1 == 'rock':\n",
    "            print('you won:   ','*',player1, '   |   ' , computer)\n",
    "            \n",
    "        \n",
    "        \n",
    "        new = input(\"Do you want to play again?  [y / n]\")\n",
    "        if new.lower() == 'y':\n",
    "            continue\n",
    "        else: \n",
    "            break\n",
    "            \n",
    "    else:\n",
    "        print(f\"Wrong choice, Please choose one of the following options: {choises}\")\n",
    "        continue"
   ]
  }
 ],
 "metadata": {
  "kernelspec": {
   "display_name": "Python 3.9.12 ('base')",
   "language": "python",
   "name": "python3"
  },
  "language_info": {
   "codemirror_mode": {
    "name": "ipython",
    "version": 3
   },
   "file_extension": ".py",
   "mimetype": "text/x-python",
   "name": "python",
   "nbconvert_exporter": "python",
   "pygments_lexer": "ipython3",
   "version": "3.9.13"
  },
  "orig_nbformat": 4,
  "vscode": {
   "interpreter": {
    "hash": "c104510c646bf96f18b996e66941a6bd207ecb29f3b2c132ad3b1812f0285828"
   }
  }
 },
 "nbformat": 4,
 "nbformat_minor": 2
}
